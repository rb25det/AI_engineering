{
  "cells": [
    {
      "cell_type": "markdown",
      "metadata": {
        "id": "gSpnWBP5ELSI"
      },
      "source": [
        "# 実践演習 Day 1：streamlitとFastAPIのデモ\n",
        "このノートブックでは以下の内容を学習します。\n",
        "\n",
        "- 必要なライブラリのインストールと環境設定\n",
        "- Hugging Faceからモデルを用いたStreamlitのデモアプリ\n",
        "- FastAPIとngrokを使用したAPIの公開方法\n",
        "\n",
        "演習を始める前に、HuggingFaceとngrokのアカウントを作成し、\n",
        "それぞれのAPIトークンを取得する必要があります。\n",
        "\n",
        "\n",
        "演習の時間では、以下の3つのディレクトリを順に説明します。\n",
        "\n",
        "1. 01_streamlit_UI\n",
        "2. 02_streamlit_app\n",
        "3. 03_FastAPI\n",
        "\n",
        "2つ目や3つ目からでも始められる様にノートブックを作成しています。\n",
        "\n",
        "復習の際にもこのノートブックを役立てていただければと思います。\n",
        "\n",
        "### 注意事項\n",
        "「02_streamlit_app」と「03_FastAPI」では、GPUを使用します。\n",
        "\n",
        "これらを実行する際は、Google Colab画面上のメニューから「編集」→ 「ノートブックの設定」\n",
        "\n",
        "「ハードウェアアクセラレーター」の項目の中から、「T4 GPU」を選択してください。\n",
        "\n",
        "このノートブックのデフォルトは「CPU」になっています。\n",
        "\n",
        "---"
      ]
    },
    {
      "cell_type": "markdown",
      "metadata": {
        "id": "OhtHkJOgELSL"
      },
      "source": [
        "# 環境変数の設定（1~3共有）\n"
      ]
    },
    {
      "cell_type": "code",
      "source": [
        "from google.colab import drive\n",
        "drive.mount('/content/drive')"
      ],
      "metadata": {
        "colab": {
          "base_uri": "https://localhost:8080/"
        },
        "id": "n35D7PeMwyRF",
        "outputId": "ba18d39b-5ea4-42f7-f1c0-06bf97969d16"
      },
      "execution_count": 1,
      "outputs": [
        {
          "output_type": "stream",
          "name": "stdout",
          "text": [
            "Mounted at /content/drive\n"
          ]
        }
      ]
    },
    {
      "cell_type": "markdown",
      "metadata": {
        "id": "Y-FjBp4MMQHM"
      },
      "source": [
        "GitHubから演習用のコードをCloneします。"
      ]
    },
    {
      "cell_type": "code",
      "execution_count": 2,
      "metadata": {
        "id": "AIXMavdDEP8U",
        "colab": {
          "base_uri": "https://localhost:8080/"
        },
        "outputId": "93618865-a13b-45b0-855c-61c62afd16da"
      },
      "outputs": [
        {
          "output_type": "stream",
          "name": "stdout",
          "text": [
            "Cloning into 'lecture-ai-engineering'...\n",
            "remote: Enumerating objects: 41, done.\u001b[K\n",
            "remote: Counting objects: 100% (33/33), done.\u001b[K\n",
            "remote: Compressing objects: 100% (29/29), done.\u001b[K\n",
            "remote: Total 41 (delta 7), reused 4 (delta 4), pack-reused 8 (from 1)\u001b[K\n",
            "Receiving objects: 100% (41/41), 34.03 KiB | 4.25 MiB/s, done.\n",
            "Resolving deltas: 100% (7/7), done.\n"
          ]
        }
      ],
      "source": [
        "!git clone https://github.com/matsuolab/lecture-ai-engineering.git"
      ]
    },
    {
      "cell_type": "markdown",
      "metadata": {
        "id": "XC8n7yZ_vs1K"
      },
      "source": [
        "必要なAPIトークンを.envに設定します。\n",
        "\n",
        "「lecture-ai-engineering/day1」の配下に、「.env_template」ファイルが存在しています。\n",
        "\n",
        "隠しファイルのため表示されていない場合は、画面左側のある、目のアイコンの「隠しファイルの表示」ボタンを押してください。\n",
        "\n",
        "「.env_template」のファイル名を「.env」に変更します。「.env」ファイルを開くと、以下のような中身になっています。\n",
        "\n",
        "\n",
        "```\n",
        "HUGGINGFACE_TOKEN=\"hf-********\"\n",
        "NGROK_TOKEN=\"********\"\n",
        "```\n",
        "ダブルクオーテーションで囲まれた文字列をHuggingfaceのアクセストークンと、ngrokの認証トークンで書き変えてください。\n",
        "\n",
        "それぞれのアカウントが作成済みであれば、以下のURLからそれぞれのトークンを取得できます。\n",
        "\n",
        "- Huggingfaceのアクセストークン\n",
        "https://huggingface.co/docs/hub/security-tokens\n",
        "\n",
        "- ngrokの認証トークン\n",
        "https://dashboard.ngrok.com/get-started/your-authtoken\n",
        "\n",
        "書き換えたら、「.env」ファイルをローカルのPCにダウンロードしてください。\n",
        "\n",
        "「01_streamlit_UI」から「02_streamlit_app」へ進む際に、CPUからGPUの利用に切り替えるため、セッションが一度切れてしまいます。\n",
        "\n",
        "その際に、トークンを設定した「.env」ファイルは再作成することになるので、その手間を減らすために「.env」ファイルをダウンロードしておくと良いです。"
      ]
    },
    {
      "cell_type": "markdown",
      "metadata": {
        "id": "Py1BFS5RqcSS"
      },
      "source": [
        "「.env」ファイルを読み込み、環境変数として設定します。次のセルを実行し、最終的に「True」が表示されていればうまく読み込めています。"
      ]
    },
    {
      "cell_type": "code",
      "execution_count": 19,
      "metadata": {
        "id": "bvEowFfg5lrq",
        "colab": {
          "base_uri": "https://localhost:8080/"
        },
        "outputId": "8bf2d7df-c3ef-4316-81b3-08ff3a17b2af"
      },
      "outputs": [
        {
          "output_type": "stream",
          "name": "stdout",
          "text": [
            "Requirement already satisfied: python-dotenv in /usr/local/lib/python3.11/dist-packages (1.1.0)\n",
            "Hugging Face Tokenを入力してください（非表示になります）:··········\n",
            "✅ Hugging Faceに安全にログインできました！\n"
          ]
        }
      ],
      "source": [
        "# --- 最初にインストール ---\n",
        "!pip install -q huggingface_hub python-dotenv\n",
        "\n",
        "# --- 必要なライブラリをインポート ---\n",
        "import os\n",
        "from huggingface_hub import login\n",
        "from dotenv import load_dotenv\n",
        "!pip install python-dotenv\n",
        "from dotenv import load_dotenv, find_dotenv\n",
        "# --- トークンを入力（隠して入力できる） ---\n",
        "from getpass import getpass\n",
        "token = getpass('Hugging Face Tokenを入力してください（非表示になります）:')\n",
        "\n",
        "# --- ログイン処理（環境変数にも設定しておく） ---\n",
        "os.environ[\"HUGGINGFACE_TOKEN\"] = token\n",
        "login(token=token)\n",
        "\n",
        "print(\"✅ Hugging Faceに安全にログインできました！\")"
      ]
    },
    {
      "cell_type": "markdown",
      "metadata": {
        "id": "os0Yk6gaELSM"
      },
      "source": [
        "# 01_streamlit_UI\n",
        "\n",
        "ディレクトリ「01_streamlit_UI」に移動します。"
      ]
    },
    {
      "cell_type": "code",
      "execution_count": 4,
      "metadata": {
        "id": "S28XgOm0ELSM",
        "colab": {
          "base_uri": "https://localhost:8080/"
        },
        "outputId": "1a355aa5-fd06-4562-aedd-23ed19f2a6c7"
      },
      "outputs": [
        {
          "output_type": "stream",
          "name": "stdout",
          "text": [
            "/content/lecture-ai-engineering/day1/01_streamlit_UI\n"
          ]
        }
      ],
      "source": [
        "%cd /content/lecture-ai-engineering/day1/01_streamlit_UI"
      ]
    },
    {
      "cell_type": "markdown",
      "metadata": {
        "id": "eVp-aEIkELSM"
      },
      "source": [
        "必要なライブラリをインストールします。"
      ]
    },
    {
      "cell_type": "code",
      "execution_count": 5,
      "metadata": {
        "id": "nBe41LFiELSN"
      },
      "outputs": [],
      "source": [
        "%%capture\n",
        "!pip install -r requirements.txt"
      ]
    },
    {
      "cell_type": "markdown",
      "metadata": {
        "id": "Yyw6VHaTELSN"
      },
      "source": [
        "ngrokのトークンを使用して、認証を行います。"
      ]
    },
    {
      "cell_type": "code",
      "execution_count": 6,
      "metadata": {
        "id": "aYw1q0iXELSN",
        "colab": {
          "base_uri": "https://localhost:8080/"
        },
        "outputId": "1a1d2aa1-be9e-4ccb-f3b9-fb799dc765fd"
      },
      "outputs": [
        {
          "output_type": "stream",
          "name": "stdout",
          "text": [
            "Authtoken saved to configuration file: /root/.config/ngrok/ngrok.yml\n"
          ]
        }
      ],
      "source": [
        "!ngrok authtoken $$NGROK_TOKEN"
      ]
    },
    {
      "cell_type": "markdown",
      "metadata": {
        "id": "RssTcD_IELSN"
      },
      "source": [
        "アプリを起動します。"
      ]
    },
    {
      "cell_type": "code",
      "execution_count": 10,
      "metadata": {
        "id": "f-E7ucR6ELSN",
        "colab": {
          "base_uri": "https://localhost:8080/"
        },
        "outputId": "334a6751-c9ce-40e0-b639-4808d6b6b1cd"
      },
      "outputs": [
        {
          "output_type": "stream",
          "name": "stdout",
          "text": [
            "公開URL: https://8e2e-35-190-142-118.ngrok-free.app\n",
            "Usage: streamlit run [OPTIONS] TARGET [ARGS]...\n",
            "Try 'streamlit run --help' for help.\n",
            "\n",
            "Error: Invalid value: File does not exist: app.py\n"
          ]
        }
      ],
      "source": [
        "from pyngrok import ngrok\n",
        "\n",
        "public_url = ngrok.connect(8501).public_url\n",
        "print(f\"公開URL: {public_url}\")\n",
        "!streamlit run app.py"
      ]
    },
    {
      "cell_type": "markdown",
      "metadata": {
        "id": "kbYyXVFjELSN"
      },
      "source": [
        "公開URLの後に記載されているURLにブラウザでアクセスすると、streamlitのUIが表示されます。\n",
        "\n",
        "app.pyのコメントアウトされている箇所を編集することで、UIがどの様に変化するか確認してみましょう。\n",
        "\n",
        "streamlitの公式ページには、ギャラリーページがあります。\n",
        "\n",
        "streamlitを使うとpythonという一つの言語であっても、様々なUIを実現できることがわかると思います。\n",
        "\n",
        "https://streamlit.io/gallery"
      ]
    },
    {
      "cell_type": "markdown",
      "metadata": {
        "id": "MmtP5GLOELSN"
      },
      "source": [
        "後片付けとして、使う必要のないngrokのトンネルを削除します。"
      ]
    },
    {
      "cell_type": "code",
      "execution_count": 8,
      "metadata": {
        "id": "8Ek9QgahELSO"
      },
      "outputs": [],
      "source": [
        "from pyngrok import ngrok\n",
        "ngrok.kill()"
      ]
    },
    {
      "cell_type": "markdown",
      "metadata": {
        "id": "o-T8tFpyELSO"
      },
      "source": [
        "# 02_streamlit_app"
      ]
    },
    {
      "cell_type": "markdown",
      "metadata": {
        "id": "QqogFQKnELSO"
      },
      "source": [
        "\n",
        "ディレクトリ「02_streamlit_app」に移動します。"
      ]
    },
    {
      "cell_type": "code",
      "execution_count": 20,
      "metadata": {
        "id": "UeEjlJ7uELSO",
        "colab": {
          "base_uri": "https://localhost:8080/"
        },
        "outputId": "b1eb3e63-0f35-48f4-a6da-a695516dad9e"
      },
      "outputs": [
        {
          "output_type": "stream",
          "name": "stdout",
          "text": [
            "/content/lecture-ai-engineering/day1/02_streamlit_app\n"
          ]
        }
      ],
      "source": [
        "%cd /content/lecture-ai-engineering/day1/02_streamlit_app"
      ]
    },
    {
      "cell_type": "markdown",
      "metadata": {
        "id": "-XUH2AstELSO"
      },
      "source": [
        "必要なライブラリをインストールします。"
      ]
    },
    {
      "cell_type": "code",
      "execution_count": 21,
      "metadata": {
        "id": "mDqvI4V3ELSO"
      },
      "outputs": [],
      "source": [
        "%%capture\n",
        "!pip install -r requirements.txt"
      ]
    },
    {
      "cell_type": "markdown",
      "metadata": {
        "id": "ZO31umGZELSO"
      },
      "source": [
        "ngrokとhuggigfaceのトークンを使用して、認証を行います。"
      ]
    },
    {
      "cell_type": "code",
      "execution_count": 22,
      "metadata": {
        "id": "jPxTiEWQELSO",
        "colab": {
          "base_uri": "https://localhost:8080/"
        },
        "outputId": "48d60076-e3ed-4a65-ee36-58aa47b570c8"
      },
      "outputs": [
        {
          "output_type": "stream",
          "name": "stdout",
          "text": [
            "Authtoken saved to configuration file: /root/.config/ngrok/ngrok.yml\n",
            "The token has not been saved to the git credentials helper. Pass `add_to_git_credential=True` in this function directly or `--add-to-git-credential` if using via `huggingface-cli` if you want to set the git credential as well.\n",
            "Token is valid (permission: read).\n",
            "The token `AI_engineering` has been saved to /root/.cache/huggingface/stored_tokens\n",
            "Your token has been saved to /root/.cache/huggingface/token\n",
            "Login successful.\n",
            "The current active token is: `AI_engineering`\n"
          ]
        }
      ],
      "source": [
        "!ngrok authtoken $$NGROK_TOKEN\n",
        "!huggingface-cli login --token $$HUGGINGFACE_TOKEN"
      ]
    },
    {
      "cell_type": "markdown",
      "metadata": {
        "id": "dz4WrELLELSP"
      },
      "source": [
        "stramlitでHuggingfaceのトークン情報を扱うために、streamlit用の設定ファイル（.streamlit）を作成し、トークンの情報を格納します。"
      ]
    },
    {
      "cell_type": "code",
      "execution_count": 23,
      "metadata": {
        "id": "W184-a7qFP0W"
      },
      "outputs": [],
      "source": [
        "# .streamlit/secrets.toml ファイルを作成\n",
        "import os\n",
        "import toml\n",
        "\n",
        "# 設定ファイルのディレクトリ確保\n",
        "os.makedirs('.streamlit', exist_ok=True)\n",
        "\n",
        "# 環境変数から取得したトークンを設定ファイルに書き込む\n",
        "secrets = {\n",
        "    \"huggingface\": {\n",
        "        \"token\": os.environ.get(\"HUGGINGFACE_TOKEN\", \"\")\n",
        "    }\n",
        "}\n",
        "\n",
        "# 設定ファイルを書き込む\n",
        "with open('.streamlit/secrets.toml', 'w') as f:\n",
        "    toml.dump(secrets, f)"
      ]
    },
    {
      "cell_type": "markdown",
      "metadata": {
        "id": "fK0vI_xKELSP"
      },
      "source": [
        "アプリを起動します。\n",
        "\n",
        "02_streamlit_appでは、Huggingfaceからモデルをダウンロードするため、初回起動には2分程度時間がかかります。\n",
        "\n",
        "この待ち時間を利用して、app.pyのコードを確認してみましょう。"
      ]
    },
    {
      "cell_type": "code",
      "execution_count": 24,
      "metadata": {
        "id": "TBQyTTWTELSP",
        "colab": {
          "base_uri": "https://localhost:8080/"
        },
        "outputId": "7de4537f-7b46-4f9d-8a6c-49b421736862"
      },
      "outputs": [
        {
          "output_type": "stream",
          "name": "stdout",
          "text": [
            "公開URL: https://2bc8-35-190-142-118.ngrok-free.app\n",
            "\n",
            "Collecting usage statistics. To deactivate, set browser.gatherUsageStats to false.\n",
            "\u001b[0m\n",
            "\u001b[0m\n",
            "\u001b[34m\u001b[1m  You can now view your Streamlit app in your browser.\u001b[0m\n",
            "\u001b[0m\n",
            "\u001b[34m  Local URL: \u001b[0m\u001b[1mhttp://localhost:8501\u001b[0m\n",
            "\u001b[34m  Network URL: \u001b[0m\u001b[1mhttp://172.28.0.12:8501\u001b[0m\n",
            "\u001b[34m  External URL: \u001b[0m\u001b[1mhttp://35.190.142.118:8501\u001b[0m\n",
            "\u001b[0m\n",
            "NLTK loaded successfully.\n",
            "2025-04-26 12:09:44.483537: E external/local_xla/xla/stream_executor/cuda/cuda_fft.cc:477] Unable to register cuFFT factory: Attempting to register factory for plugin cuFFT when one has already been registered\n",
            "WARNING: All log messages before absl::InitializeLog() is called are written to STDERR\n",
            "E0000 00:00:1745669384.801787    6377 cuda_dnn.cc:8310] Unable to register cuDNN factory: Attempting to register factory for plugin cuDNN when one has already been registered\n",
            "E0000 00:00:1745669384.885305    6377 cuda_blas.cc:1418] Unable to register cuBLAS factory: Attempting to register factory for plugin cuBLAS when one has already been registered\n",
            "2025-04-26 12:09:45.560166: I tensorflow/core/platform/cpu_feature_guard.cc:210] This TensorFlow binary is optimized to use available CPU instructions in performance-critical operations.\n",
            "To enable the following instructions: AVX2 FMA, in other operations, rebuild TensorFlow with the appropriate compiler flags.\n",
            "NLTK Punkt data checked/downloaded.\n",
            "Database 'chat_feedback.db' initialized successfully.\n",
            "Data saved to DB successfully.\n",
            "Data saved to DB successfully.\n",
            "Data saved to DB successfully.\n",
            "Data saved to DB successfully.\n",
            "Data saved to DB successfully.\n",
            "Data saved to DB successfully.\n",
            "Data saved to DB successfully.\n",
            "Data saved to DB successfully.\n",
            "Data saved to DB successfully.\n",
            "Data saved to DB successfully.\n",
            "config.json: 100% 805/805 [00:00<00:00, 6.14MB/s]\n",
            "model.safetensors.index.json: 100% 24.2k/24.2k [00:00<00:00, 17.4MB/s]\n",
            "Fetching 2 files:   0% 0/2 [00:00<?, ?it/s]\n",
            "model-00001-of-00002.safetensors:   0% 0.00/4.99G [00:00<?, ?B/s]\u001b[A\n",
            "\n",
            "model-00002-of-00002.safetensors:   0% 0.00/241M [00:00<?, ?B/s]\u001b[A\u001b[A\n",
            "model-00001-of-00002.safetensors:   0% 10.5M/4.99G [00:00<01:10, 70.3MB/s]\u001b[A\n",
            "model-00001-of-00002.safetensors:   0% 21.0M/4.99G [00:00<00:57, 85.9MB/s]\u001b[A\n",
            "\n",
            "model-00002-of-00002.safetensors:   4% 10.5M/241M [00:00<00:03, 74.3MB/s]\u001b[A\u001b[A\n",
            "model-00001-of-00002.safetensors:   1% 31.5M/4.99G [00:00<00:54, 91.1MB/s]\u001b[A\n",
            "\n",
            "model-00002-of-00002.safetensors:  13% 31.5M/241M [00:00<00:01, 124MB/s] \u001b[A\u001b[A\n",
            "\n",
            "model-00002-of-00002.safetensors:  22% 52.4M/241M [00:00<00:01, 142MB/s]\u001b[A\u001b[A\n",
            "model-00001-of-00002.safetensors:   1% 52.4M/4.99G [00:00<00:50, 98.5MB/s]\u001b[A\n",
            "model-00001-of-00002.safetensors:   1% 62.9M/4.99G [00:00<00:49, 99.7MB/s]\u001b[A\n",
            "\n",
            "model-00002-of-00002.safetensors:  30% 73.4M/241M [00:00<00:01, 146MB/s]\u001b[A\u001b[A\n",
            "model-00001-of-00002.safetensors:   1% 73.4M/4.99G [00:00<00:48, 101MB/s] \u001b[A\n",
            "\n",
            "model-00002-of-00002.safetensors:  39% 94.4M/241M [00:00<00:01, 136MB/s]\u001b[A\u001b[A\n",
            "model-00001-of-00002.safetensors:   2% 83.9M/4.99G [00:00<00:48, 101MB/s]\u001b[A\n",
            "model-00001-of-00002.safetensors:   2% 94.4M/4.99G [00:00<00:47, 102MB/s]\u001b[A\n",
            "\n",
            "model-00002-of-00002.safetensors:  48% 115M/241M [00:00<00:00, 142MB/s] \u001b[A\u001b[A\n",
            "model-00001-of-00002.safetensors:   2% 105M/4.99G [00:01<00:47, 102MB/s] \u001b[A\n",
            "\n",
            "model-00002-of-00002.safetensors:  57% 136M/241M [00:00<00:00, 152MB/s]\u001b[A\u001b[A\n",
            "model-00001-of-00002.safetensors:   2% 115M/4.99G [00:01<00:47, 103MB/s]\u001b[A\n",
            "\n",
            "model-00002-of-00002.safetensors:  65% 157M/241M [00:01<00:00, 161MB/s]\u001b[A\u001b[A\n",
            "model-00001-of-00002.safetensors:   3% 126M/4.99G [00:01<00:47, 101MB/s]\u001b[A\n",
            "\n",
            "model-00002-of-00002.safetensors:  74% 178M/241M [00:01<00:00, 165MB/s]\u001b[A\u001b[A\n",
            "\n",
            "model-00002-of-00002.safetensors:  83% 199M/241M [00:01<00:00, 173MB/s]\u001b[A\u001b[A\n",
            "model-00001-of-00002.safetensors:   3% 147M/4.99G [00:01<00:46, 104MB/s]\u001b[A\n",
            "\n",
            "model-00002-of-00002.safetensors:  91% 220M/241M [00:01<00:00, 172MB/s]\u001b[A\u001b[A\n",
            "model-00001-of-00002.safetensors:   3% 157M/4.99G [00:01<00:46, 103MB/s]\u001b[A\n",
            "\n",
            "model-00002-of-00002.safetensors: 100% 241M/241M [00:01<00:00, 154MB/s]\n",
            "\n",
            "model-00001-of-00002.safetensors:   4% 178M/4.99G [00:01<00:46, 104MB/s]\u001b[A\n",
            "model-00001-of-00002.safetensors:   4% 189M/4.99G [00:01<00:46, 102MB/s]\u001b[A\n",
            "model-00001-of-00002.safetensors:   4% 199M/4.99G [00:01<00:46, 103MB/s]\u001b[A\n",
            "model-00001-of-00002.safetensors:   4% 210M/4.99G [00:02<00:46, 103MB/s]\u001b[A\n",
            "model-00001-of-00002.safetensors:   4% 220M/4.99G [00:02<00:46, 103MB/s]\u001b[A\n",
            "model-00001-of-00002.safetensors:   5% 231M/4.99G [00:02<00:46, 103MB/s]\u001b[A\n",
            "model-00001-of-00002.safetensors:   5% 241M/4.99G [00:02<00:45, 104MB/s]\u001b[A\n",
            "model-00001-of-00002.safetensors:   5% 252M/4.99G [00:02<00:46, 103MB/s]\u001b[A\n",
            "model-00001-of-00002.safetensors:   5% 262M/4.99G [00:02<00:46, 102MB/s]\u001b[A\n",
            "model-00001-of-00002.safetensors:   5% 273M/4.99G [00:02<00:45, 103MB/s]\u001b[A\n",
            "model-00001-of-00002.safetensors:   6% 283M/4.99G [00:02<00:45, 103MB/s]\u001b[A\n",
            "model-00001-of-00002.safetensors:   6% 294M/4.99G [00:02<00:45, 103MB/s]\u001b[A\n",
            "model-00001-of-00002.safetensors:   6% 304M/4.99G [00:03<00:45, 103MB/s]\u001b[A\n",
            "model-00001-of-00002.safetensors:   6% 315M/4.99G [00:03<00:45, 103MB/s]\u001b[A\n",
            "model-00001-of-00002.safetensors:   7% 325M/4.99G [00:03<00:46, 101MB/s]\u001b[A\n",
            "model-00001-of-00002.safetensors:   7% 336M/4.99G [00:03<00:46, 101MB/s]\u001b[A\n",
            "model-00001-of-00002.safetensors:   7% 346M/4.99G [00:03<00:45, 102MB/s]\u001b[A\n",
            "model-00001-of-00002.safetensors:   7% 357M/4.99G [00:03<00:45, 102MB/s]\u001b[A\n",
            "model-00001-of-00002.safetensors:   7% 367M/4.99G [00:03<00:45, 102MB/s]\u001b[A\n",
            "model-00001-of-00002.safetensors:   8% 377M/4.99G [00:03<00:45, 102MB/s]\u001b[A\n",
            "model-00001-of-00002.safetensors:   8% 388M/4.99G [00:03<00:44, 102MB/s]\u001b[A\n",
            "model-00001-of-00002.safetensors:   8% 398M/4.99G [00:03<00:44, 102MB/s]\u001b[A\n",
            "model-00001-of-00002.safetensors:   8% 409M/4.99G [00:04<00:44, 102MB/s]\u001b[A\n",
            "model-00001-of-00002.safetensors:   8% 419M/4.99G [00:04<00:44, 103MB/s]\u001b[A\n",
            "model-00001-of-00002.safetensors:   9% 430M/4.99G [00:04<00:44, 102MB/s]\u001b[A\n",
            "model-00001-of-00002.safetensors:   9% 440M/4.99G [00:04<00:44, 101MB/s]\u001b[A\n",
            "model-00001-of-00002.safetensors:   9% 451M/4.99G [00:04<00:44, 102MB/s]\u001b[A\n",
            "model-00001-of-00002.safetensors:   9% 461M/4.99G [00:04<00:44, 102MB/s]\u001b[A\n",
            "model-00001-of-00002.safetensors:   9% 472M/4.99G [00:04<00:44, 102MB/s]\u001b[A\n",
            "model-00001-of-00002.safetensors:  10% 482M/4.99G [00:04<00:44, 102MB/s]\u001b[A\n",
            "model-00001-of-00002.safetensors:  10% 493M/4.99G [00:04<00:43, 102MB/s]\u001b[A\n",
            "model-00001-of-00002.safetensors:  10% 503M/4.99G [00:04<00:43, 103MB/s]\u001b[A\n",
            "model-00001-of-00002.safetensors:  10% 514M/4.99G [00:05<00:43, 103MB/s]\u001b[A\n",
            "model-00001-of-00002.safetensors:  11% 524M/4.99G [00:05<00:43, 102MB/s]\u001b[A\n",
            "model-00001-of-00002.safetensors:  11% 535M/4.99G [00:05<00:43, 102MB/s]\u001b[A\n",
            "model-00001-of-00002.safetensors:  11% 545M/4.99G [00:05<00:43, 102MB/s]\u001b[A\n",
            "model-00001-of-00002.safetensors:  11% 556M/4.99G [00:05<00:43, 102MB/s]\u001b[A\n",
            "model-00001-of-00002.safetensors:  11% 566M/4.99G [00:05<00:44, 99.0MB/s]\u001b[A\n",
            "model-00001-of-00002.safetensors:  12% 577M/4.99G [00:05<00:44, 99.2MB/s]\u001b[A\n",
            "model-00001-of-00002.safetensors:  12% 587M/4.99G [00:05<00:44, 99.5MB/s]\u001b[A\n",
            "model-00001-of-00002.safetensors:  12% 598M/4.99G [00:05<00:44, 99.0MB/s]\u001b[A\n",
            "model-00001-of-00002.safetensors:  12% 608M/4.99G [00:06<00:43, 99.9MB/s]\u001b[A\n",
            "model-00001-of-00002.safetensors:  12% 619M/4.99G [00:06<00:43, 100MB/s] \u001b[A\n",
            "model-00001-of-00002.safetensors:  13% 629M/4.99G [00:06<00:43, 101MB/s]\u001b[A\n",
            "model-00001-of-00002.safetensors:  13% 640M/4.99G [00:06<00:42, 102MB/s]\u001b[A\n",
            "model-00001-of-00002.safetensors:  13% 650M/4.99G [00:06<00:42, 101MB/s]\u001b[A\n",
            "model-00001-of-00002.safetensors:  13% 671M/4.99G [00:06<00:42, 102MB/s]\u001b[A\n",
            "model-00001-of-00002.safetensors:  14% 682M/4.99G [00:06<00:42, 102MB/s]\u001b[A\n",
            "model-00001-of-00002.safetensors:  14% 692M/4.99G [00:06<00:41, 103MB/s]\u001b[A\n",
            "model-00001-of-00002.safetensors:  14% 703M/4.99G [00:06<00:41, 103MB/s]\u001b[A\n",
            "model-00001-of-00002.safetensors:  14% 713M/4.99G [00:07<00:41, 102MB/s]\u001b[A\n",
            "model-00001-of-00002.safetensors:  15% 724M/4.99G [00:07<00:41, 102MB/s]\u001b[A\n",
            "model-00001-of-00002.safetensors:  15% 734M/4.99G [00:07<00:41, 101MB/s]\u001b[A\n",
            "model-00001-of-00002.safetensors:  15% 744M/4.99G [00:07<00:41, 102MB/s]\u001b[A\n",
            "model-00001-of-00002.safetensors:  15% 755M/4.99G [00:07<00:41, 101MB/s]\u001b[A\n",
            "model-00001-of-00002.safetensors:  15% 765M/4.99G [00:07<00:41, 101MB/s]\u001b[A\n",
            "model-00001-of-00002.safetensors:  16% 776M/4.99G [00:07<00:41, 101MB/s]\u001b[A\n",
            "model-00001-of-00002.safetensors:  16% 786M/4.99G [00:07<00:41, 102MB/s]\u001b[A\n",
            "model-00001-of-00002.safetensors:  16% 797M/4.99G [00:07<00:41, 102MB/s]\u001b[A\n",
            "model-00001-of-00002.safetensors:  16% 807M/4.99G [00:07<00:41, 101MB/s]\u001b[A\n",
            "model-00001-of-00002.safetensors:  16% 818M/4.99G [00:08<00:41, 101MB/s]\u001b[A\n",
            "model-00001-of-00002.safetensors:  17% 828M/4.99G [00:08<00:42, 98.6MB/s]\u001b[A\n",
            "model-00001-of-00002.safetensors:  17% 839M/4.99G [00:08<00:41, 98.9MB/s]\u001b[A\n",
            "model-00001-of-00002.safetensors:  17% 849M/4.99G [00:08<00:41, 98.6MB/s]\u001b[A\n",
            "model-00001-of-00002.safetensors:  17% 860M/4.99G [00:08<00:41, 99.4MB/s]\u001b[A\n",
            "model-00001-of-00002.safetensors:  17% 870M/4.99G [00:08<00:41, 99.3MB/s]\u001b[A\n",
            "model-00001-of-00002.safetensors:  18% 881M/4.99G [00:08<00:41, 98.8MB/s]\u001b[A\n",
            "model-00001-of-00002.safetensors:  18% 891M/4.99G [00:08<00:42, 97.5MB/s]\u001b[A\n",
            "model-00001-of-00002.safetensors:  18% 902M/4.99G [00:08<00:41, 98.6MB/s]\u001b[A\n",
            "model-00001-of-00002.safetensors:  18% 912M/4.99G [00:09<00:41, 98.6MB/s]\u001b[A\n",
            "model-00001-of-00002.safetensors:  18% 923M/4.99G [00:09<00:41, 98.3MB/s]\u001b[A\n",
            "model-00001-of-00002.safetensors:  19% 933M/4.99G [00:09<00:41, 98.5MB/s]\u001b[A\n",
            "model-00001-of-00002.safetensors:  19% 944M/4.99G [00:09<00:41, 97.7MB/s]\u001b[A\n",
            "model-00001-of-00002.safetensors:  19% 954M/4.99G [00:09<00:41, 97.8MB/s]\u001b[A\n",
            "model-00001-of-00002.safetensors:  19% 965M/4.99G [00:09<00:41, 97.2MB/s]\u001b[A\n",
            "model-00001-of-00002.safetensors:  20% 975M/4.99G [00:09<00:40, 97.9MB/s]\u001b[A\n",
            "model-00001-of-00002.safetensors:  20% 986M/4.99G [00:09<00:40, 99.6MB/s]\u001b[A\n",
            "model-00001-of-00002.safetensors:  20% 996M/4.99G [00:09<00:39, 100MB/s] \u001b[A\n",
            "model-00001-of-00002.safetensors:  20% 1.01G/4.99G [00:09<00:39, 101MB/s]\u001b[A\n",
            "model-00001-of-00002.safetensors:  20% 1.02G/4.99G [00:10<00:39, 101MB/s]\u001b[A\n",
            "model-00001-of-00002.safetensors:  21% 1.03G/4.99G [00:10<00:39, 101MB/s]\u001b[A\n",
            "model-00001-of-00002.safetensors:  21% 1.04G/4.99G [00:10<00:39, 101MB/s]\u001b[A\n",
            "model-00001-of-00002.safetensors:  21% 1.05G/4.99G [00:10<00:39, 101MB/s]\u001b[A\n",
            "model-00001-of-00002.safetensors:  21% 1.06G/4.99G [00:10<00:38, 101MB/s]\u001b[A\n",
            "model-00001-of-00002.safetensors:  21% 1.07G/4.99G [00:10<00:38, 101MB/s]\u001b[A\n",
            "model-00001-of-00002.safetensors:  22% 1.08G/4.99G [00:10<00:38, 101MB/s]\u001b[A\n",
            "model-00001-of-00002.safetensors:  22% 1.09G/4.99G [00:10<00:38, 101MB/s]\u001b[A\n",
            "model-00001-of-00002.safetensors:  22% 1.10G/4.99G [00:10<00:38, 102MB/s]\u001b[A\n",
            "model-00001-of-00002.safetensors:  22% 1.11G/4.99G [00:11<00:38, 102MB/s]\u001b[A\n",
            "model-00001-of-00002.safetensors:  22% 1.12G/4.99G [00:11<00:37, 102MB/s]\u001b[A\n",
            "model-00001-of-00002.safetensors:  23% 1.13G/4.99G [00:11<00:37, 102MB/s]\u001b[A\n",
            "model-00001-of-00002.safetensors:  23% 1.14G/4.99G [00:11<00:37, 102MB/s]\u001b[A\n",
            "model-00001-of-00002.safetensors:  23% 1.15G/4.99G [00:11<00:37, 102MB/s]\u001b[A\n",
            "model-00001-of-00002.safetensors:  23% 1.16G/4.99G [00:11<00:37, 102MB/s]\u001b[A\n",
            "model-00001-of-00002.safetensors:  24% 1.17G/4.99G [00:11<00:37, 102MB/s]\u001b[A\n",
            "model-00001-of-00002.safetensors:  24% 1.18G/4.99G [00:11<00:37, 101MB/s]\u001b[A\n",
            "model-00001-of-00002.safetensors:  24% 1.20G/4.99G [00:12<00:57, 65.6MB/s]\u001b[A\n",
            "model-00001-of-00002.safetensors:  24% 1.22G/4.99G [00:12<00:45, 83.5MB/s]\u001b[A\n",
            "model-00001-of-00002.safetensors:  25% 1.23G/4.99G [00:12<00:43, 87.1MB/s]\u001b[A\n",
            "model-00001-of-00002.safetensors:  25% 1.24G/4.99G [00:12<00:41, 90.5MB/s]\u001b[A\n",
            "model-00001-of-00002.safetensors:  25% 1.25G/4.99G [00:12<00:40, 92.9MB/s]\u001b[A\n",
            "model-00001-of-00002.safetensors:  25% 1.26G/4.99G [00:12<00:39, 95.0MB/s]\u001b[A\n",
            "model-00001-of-00002.safetensors:  25% 1.27G/4.99G [00:12<00:38, 95.5MB/s]\u001b[A\n",
            "model-00001-of-00002.safetensors:  26% 1.28G/4.99G [00:12<00:39, 94.4MB/s]\u001b[A\n",
            "model-00001-of-00002.safetensors:  26% 1.29G/4.99G [00:12<00:38, 95.7MB/s]\u001b[A\n",
            "model-00001-of-00002.safetensors:  26% 1.30G/4.99G [00:13<00:38, 96.7MB/s]\u001b[A\n",
            "model-00001-of-00002.safetensors:  26% 1.31G/4.99G [00:13<00:37, 98.0MB/s]\u001b[A\n",
            "model-00001-of-00002.safetensors:  26% 1.32G/4.99G [00:13<00:37, 99.1MB/s]\u001b[A\n",
            "model-00001-of-00002.safetensors:  27% 1.33G/4.99G [00:13<00:36, 99.6MB/s]\u001b[A\n",
            "model-00001-of-00002.safetensors:  27% 1.34G/4.99G [00:13<00:36, 99.4MB/s]\u001b[A\n",
            "model-00001-of-00002.safetensors:  27% 1.35G/4.99G [00:14<01:30, 40.3MB/s]\u001b[A\n",
            "model-00001-of-00002.safetensors:  28% 1.37G/4.99G [00:14<00:57, 62.9MB/s]\u001b[A\n",
            "model-00001-of-00002.safetensors:  28% 1.39G/4.99G [00:14<00:49, 73.3MB/s]\u001b[A\n",
            "model-00001-of-00002.safetensors:  28% 1.41G/4.99G [00:14<00:45, 78.2MB/s]\u001b[A\n",
            "model-00001-of-00002.safetensors:  28% 1.42G/4.99G [00:14<00:43, 82.4MB/s]\u001b[A\n",
            "model-00001-of-00002.safetensors:  29% 1.43G/4.99G [00:14<00:41, 85.0MB/s]\u001b[A\n",
            "model-00001-of-00002.safetensors:  29% 1.44G/4.99G [00:14<00:40, 88.3MB/s]\u001b[A\n",
            "model-00001-of-00002.safetensors:  29% 1.45G/4.99G [00:14<00:38, 91.3MB/s]\u001b[A\n",
            "model-00001-of-00002.safetensors:  29% 1.46G/4.99G [00:15<00:37, 93.4MB/s]\u001b[A\n",
            "model-00001-of-00002.safetensors:  29% 1.47G/4.99G [00:15<00:36, 95.3MB/s]\u001b[A\n",
            "model-00001-of-00002.safetensors:  30% 1.48G/4.99G [00:15<00:36, 97.3MB/s]\u001b[A\n",
            "model-00001-of-00002.safetensors:  30% 1.49G/4.99G [00:15<00:35, 98.3MB/s]\u001b[A\n",
            "model-00001-of-00002.safetensors:  30% 1.50G/4.99G [00:15<00:34, 100MB/s] \u001b[A\n",
            "model-00001-of-00002.safetensors:  30% 1.51G/4.99G [00:15<00:35, 99.0MB/s]\u001b[A\n",
            "model-00001-of-00002.safetensors:  30% 1.52G/4.99G [00:15<00:35, 97.2MB/s]\u001b[A\n",
            "model-00001-of-00002.safetensors:  31% 1.53G/4.99G [00:15<00:35, 96.3MB/s]\u001b[A\n",
            "model-00001-of-00002.safetensors:  31% 1.54G/4.99G [00:15<00:35, 95.8MB/s]\u001b[A\n",
            "model-00001-of-00002.safetensors:  31% 1.55G/4.99G [00:16<00:35, 95.6MB/s]\u001b[A\n",
            "model-00001-of-00002.safetensors:  31% 1.56G/4.99G [00:16<00:35, 95.3MB/s]\u001b[A\n",
            "model-00001-of-00002.safetensors:  32% 1.57G/4.99G [00:16<00:35, 96.3MB/s]\u001b[A\n",
            "model-00001-of-00002.safetensors:  32% 1.58G/4.99G [00:16<00:35, 96.2MB/s]\u001b[A\n",
            "model-00001-of-00002.safetensors:  32% 1.59G/4.99G [00:16<00:35, 96.4MB/s]\u001b[A\n",
            "model-00001-of-00002.safetensors:  32% 1.60G/4.99G [00:16<00:34, 97.5MB/s]\u001b[A\n",
            "model-00001-of-00002.safetensors:  32% 1.61G/4.99G [00:16<00:34, 97.1MB/s]\u001b[A\n",
            "model-00001-of-00002.safetensors:  33% 1.63G/4.99G [00:16<00:34, 97.8MB/s]\u001b[A\n",
            "model-00001-of-00002.safetensors:  33% 1.64G/4.99G [00:16<00:34, 98.5MB/s]\u001b[A\n",
            "model-00001-of-00002.safetensors:  33% 1.65G/4.99G [00:16<00:34, 97.3MB/s]\u001b[A\n",
            "model-00001-of-00002.safetensors:  33% 1.66G/4.99G [00:17<00:34, 97.0MB/s]\u001b[A\n",
            "model-00001-of-00002.safetensors:  33% 1.67G/4.99G [00:17<00:33, 98.2MB/s]\u001b[A\n",
            "model-00001-of-00002.safetensors:  34% 1.68G/4.99G [00:17<00:33, 97.5MB/s]\u001b[A\n",
            "model-00001-of-00002.safetensors:  34% 1.69G/4.99G [00:17<00:34, 97.0MB/s]\u001b[A\n",
            "model-00001-of-00002.safetensors:  34% 1.70G/4.99G [00:17<00:33, 97.0MB/s]\u001b[A\n",
            "model-00001-of-00002.safetensors:  34% 1.71G/4.99G [00:17<00:33, 97.8MB/s]\u001b[A\n",
            "model-00001-of-00002.safetensors:  34% 1.72G/4.99G [00:17<00:33, 98.6MB/s]\u001b[A\n",
            "model-00001-of-00002.safetensors:  35% 1.73G/4.99G [00:17<00:33, 97.7MB/s]\u001b[A\n",
            "model-00001-of-00002.safetensors:  35% 1.74G/4.99G [00:17<00:33, 97.3MB/s]\u001b[A\n",
            "model-00001-of-00002.safetensors:  35% 1.75G/4.99G [00:18<00:33, 97.1MB/s]\u001b[A\n",
            "model-00001-of-00002.safetensors:  35% 1.76G/4.99G [00:18<00:33, 97.0MB/s]\u001b[A\n",
            "model-00001-of-00002.safetensors:  36% 1.77G/4.99G [00:18<00:33, 96.9MB/s]\u001b[A\n",
            "model-00001-of-00002.safetensors:  36% 1.78G/4.99G [00:18<00:32, 97.4MB/s]\u001b[A\n",
            "model-00001-of-00002.safetensors:  36% 1.79G/4.99G [00:18<00:32, 96.9MB/s]\u001b[A\n",
            "model-00001-of-00002.safetensors:  36% 1.80G/4.99G [00:18<00:33, 94.8MB/s]\u001b[A\n",
            "model-00001-of-00002.safetensors:  36% 1.81G/4.99G [00:18<00:33, 95.5MB/s]\u001b[A\n",
            "model-00001-of-00002.safetensors:  37% 1.82G/4.99G [00:18<00:32, 97.1MB/s]\u001b[A\n",
            "model-00001-of-00002.safetensors:  37% 1.84G/4.99G [00:18<00:32, 95.6MB/s]\u001b[A\n",
            "model-00001-of-00002.safetensors:  37% 1.85G/4.99G [00:19<00:32, 96.0MB/s]\u001b[A\n",
            "model-00001-of-00002.safetensors:  37% 1.86G/4.99G [00:19<00:32, 97.7MB/s]\u001b[A\n",
            "model-00001-of-00002.safetensors:  37% 1.87G/4.99G [00:19<00:32, 97.1MB/s]\u001b[A\n",
            "model-00001-of-00002.safetensors:  38% 1.88G/4.99G [00:19<00:31, 98.2MB/s]\u001b[A\n",
            "model-00001-of-00002.safetensors:  38% 1.89G/4.99G [00:19<00:32, 96.7MB/s]\u001b[A\n",
            "model-00001-of-00002.safetensors:  38% 1.90G/4.99G [00:19<00:31, 97.3MB/s]\u001b[A\n",
            "model-00001-of-00002.safetensors:  38% 1.91G/4.99G [00:19<00:31, 97.2MB/s]\u001b[A\n",
            "model-00001-of-00002.safetensors:  38% 1.92G/4.99G [00:19<00:31, 98.1MB/s]\u001b[A\n",
            "model-00001-of-00002.safetensors:  39% 1.93G/4.99G [00:19<00:31, 96.0MB/s]\u001b[A\n",
            "model-00001-of-00002.safetensors:  39% 1.94G/4.99G [00:20<00:31, 98.3MB/s]\u001b[A\n",
            "model-00001-of-00002.safetensors:  39% 1.95G/4.99G [00:20<00:30, 99.4MB/s]\u001b[A\n",
            "model-00001-of-00002.safetensors:  39% 1.96G/4.99G [00:20<00:30, 99.7MB/s]\u001b[A\n",
            "model-00001-of-00002.safetensors:  40% 1.97G/4.99G [00:20<00:30, 100MB/s] \u001b[A\n",
            "model-00001-of-00002.safetensors:  40% 1.98G/4.99G [00:20<00:30, 100MB/s]\u001b[A\n",
            "model-00001-of-00002.safetensors:  40% 1.99G/4.99G [00:20<00:29, 100MB/s]\u001b[A\n",
            "model-00001-of-00002.safetensors:  40% 2.00G/4.99G [00:20<00:29, 99.7MB/s]\u001b[A\n",
            "model-00001-of-00002.safetensors:  40% 2.01G/4.99G [00:20<00:29, 100MB/s] \u001b[A\n",
            "model-00001-of-00002.safetensors:  41% 2.02G/4.99G [00:20<00:29, 99.3MB/s]\u001b[A\n",
            "model-00001-of-00002.safetensors:  41% 2.03G/4.99G [00:20<00:29, 99.2MB/s]\u001b[A\n",
            "model-00001-of-00002.safetensors:  41% 2.04G/4.99G [00:21<00:29, 99.7MB/s]\u001b[A\n",
            "model-00001-of-00002.safetensors:  41% 2.06G/4.99G [00:21<00:29, 99.9MB/s]\u001b[A\n",
            "model-00001-of-00002.safetensors:  41% 2.07G/4.99G [00:21<00:29, 99.9MB/s]\u001b[A\n",
            "model-00001-of-00002.safetensors:  42% 2.08G/4.99G [00:21<00:28, 100MB/s] \u001b[A\n",
            "model-00001-of-00002.safetensors:  42% 2.09G/4.99G [00:21<00:30, 94.2MB/s]\u001b[A\n",
            "model-00001-of-00002.safetensors:  42% 2.10G/4.99G [00:21<00:30, 95.8MB/s]\u001b[A\n",
            "model-00001-of-00002.safetensors:  42% 2.11G/4.99G [00:21<00:29, 96.2MB/s]\u001b[A\n",
            "model-00001-of-00002.safetensors:  42% 2.12G/4.99G [00:21<00:29, 96.1MB/s]\u001b[A\n",
            "model-00001-of-00002.safetensors:  43% 2.13G/4.99G [00:21<00:29, 97.1MB/s]\u001b[A\n",
            "model-00001-of-00002.safetensors:  43% 2.14G/4.99G [00:22<00:47, 60.6MB/s]\u001b[A\n",
            "model-00001-of-00002.safetensors:  43% 2.16G/4.99G [00:22<00:34, 82.3MB/s]\u001b[A\n",
            "model-00001-of-00002.safetensors:  44% 2.17G/4.99G [00:22<00:33, 85.2MB/s]\u001b[A\n",
            "model-00001-of-00002.safetensors:  44% 2.18G/4.99G [00:22<00:32, 87.7MB/s]\u001b[A\n",
            "model-00001-of-00002.safetensors:  44% 2.19G/4.99G [00:22<00:31, 90.2MB/s]\u001b[A\n",
            "model-00001-of-00002.safetensors:  44% 2.20G/4.99G [00:22<00:30, 91.1MB/s]\u001b[A\n",
            "model-00001-of-00002.safetensors:  44% 2.21G/4.99G [00:22<00:30, 92.0MB/s]\u001b[A\n",
            "model-00001-of-00002.safetensors:  45% 2.22G/4.99G [00:23<00:29, 92.8MB/s]\u001b[A\n",
            "model-00001-of-00002.safetensors:  45% 2.23G/4.99G [00:23<00:29, 93.6MB/s]\u001b[A\n",
            "model-00001-of-00002.safetensors:  45% 2.24G/4.99G [00:23<00:29, 94.3MB/s]\u001b[A\n",
            "model-00001-of-00002.safetensors:  45% 2.25G/4.99G [00:23<00:28, 94.8MB/s]\u001b[A\n",
            "model-00001-of-00002.safetensors:  45% 2.26G/4.99G [00:23<00:29, 93.1MB/s]\u001b[A\n",
            "model-00001-of-00002.safetensors:  46% 2.28G/4.99G [00:23<00:28, 94.1MB/s]\u001b[A\n",
            "model-00001-of-00002.safetensors:  46% 2.29G/4.99G [00:23<00:28, 94.7MB/s]\u001b[A\n",
            "model-00001-of-00002.safetensors:  46% 2.30G/4.99G [00:23<00:27, 96.3MB/s]\u001b[A\n",
            "model-00001-of-00002.safetensors:  46% 2.31G/4.99G [00:24<00:57, 46.3MB/s]\u001b[A\n",
            "model-00001-of-00002.safetensors:  46% 2.32G/4.99G [00:24<00:50, 52.5MB/s]\u001b[A\n",
            "model-00001-of-00002.safetensors:  47% 2.34G/4.99G [00:24<00:35, 74.9MB/s]\u001b[A\n",
            "model-00001-of-00002.safetensors:  47% 2.36G/4.99G [00:24<00:28, 91.3MB/s]\u001b[A\n",
            "model-00001-of-00002.safetensors:  48% 2.38G/4.99G [00:24<00:28, 93.1MB/s]\u001b[A\n",
            "model-00001-of-00002.safetensors:  48% 2.40G/4.99G [00:25<00:27, 94.7MB/s]\u001b[A\n",
            "model-00001-of-00002.safetensors:  48% 2.41G/4.99G [00:25<00:26, 96.2MB/s]\u001b[A\n",
            "model-00001-of-00002.safetensors:  49% 2.42G/4.99G [00:25<00:26, 96.5MB/s]\u001b[A\n",
            "model-00001-of-00002.safetensors:  49% 2.43G/4.99G [00:25<00:26, 96.7MB/s]\u001b[A\n",
            "model-00001-of-00002.safetensors:  49% 2.44G/4.99G [00:25<00:26, 97.0MB/s]\u001b[A\n",
            "model-00001-of-00002.safetensors:  49% 2.45G/4.99G [00:25<00:26, 97.2MB/s]\u001b[A\n",
            "model-00001-of-00002.safetensors:  49% 2.46G/4.99G [00:25<00:26, 97.0MB/s]\u001b[A\n",
            "model-00001-of-00002.safetensors:  50% 2.47G/4.99G [00:25<00:25, 97.5MB/s]\u001b[A\n",
            "model-00001-of-00002.safetensors:  50% 2.49G/4.99G [00:26<00:25, 97.9MB/s]\u001b[A\n",
            "model-00001-of-00002.safetensors:  50% 2.50G/4.99G [00:26<00:25, 97.5MB/s]\u001b[A\n",
            "model-00001-of-00002.safetensors:  50% 2.51G/4.99G [00:26<00:25, 97.5MB/s]\u001b[A\n",
            "model-00001-of-00002.safetensors:  50% 2.52G/4.99G [00:26<00:24, 98.9MB/s]\u001b[A\n",
            "model-00001-of-00002.safetensors:  51% 2.53G/4.99G [00:26<00:25, 95.5MB/s]\u001b[A\n",
            "model-00001-of-00002.safetensors:  51% 2.54G/4.99G [00:26<00:26, 92.6MB/s]\u001b[A\n",
            "model-00001-of-00002.safetensors:  51% 2.56G/4.99G [00:26<00:24, 99.4MB/s]\u001b[A\n",
            "model-00001-of-00002.safetensors:  52% 2.57G/4.99G [00:26<00:24, 98.5MB/s]\u001b[A\n",
            "model-00001-of-00002.safetensors:  52% 2.58G/4.99G [00:27<00:24, 99.1MB/s]\u001b[A\n",
            "model-00001-of-00002.safetensors:  52% 2.59G/4.99G [00:27<00:24, 97.6MB/s]\u001b[A\n",
            "model-00001-of-00002.safetensors:  52% 2.60G/4.99G [00:27<00:24, 97.7MB/s]\u001b[A\n",
            "model-00001-of-00002.safetensors:  52% 2.61G/4.99G [00:27<00:24, 98.2MB/s]\u001b[A\n",
            "model-00001-of-00002.safetensors:  53% 2.62G/4.99G [00:27<00:24, 97.6MB/s]\u001b[A\n",
            "model-00001-of-00002.safetensors:  53% 2.63G/4.99G [00:27<00:24, 97.2MB/s]\u001b[A\n",
            "model-00001-of-00002.safetensors:  53% 2.64G/4.99G [00:27<00:23, 97.8MB/s]\u001b[A\n",
            "model-00001-of-00002.safetensors:  53% 2.65G/4.99G [00:27<00:23, 98.0MB/s]\u001b[A\n",
            "model-00001-of-00002.safetensors:  53% 2.66G/4.99G [00:27<00:23, 98.8MB/s]\u001b[A\n",
            "model-00001-of-00002.safetensors:  54% 2.67G/4.99G [00:27<00:23, 99.3MB/s]\u001b[A\n",
            "model-00001-of-00002.safetensors:  54% 2.68G/4.99G [00:28<00:23, 99.6MB/s]\u001b[A\n",
            "model-00001-of-00002.safetensors:  54% 2.69G/4.99G [00:28<00:22, 100MB/s] \u001b[A\n",
            "model-00001-of-00002.safetensors:  54% 2.71G/4.99G [00:28<00:22, 101MB/s]\u001b[A\n",
            "model-00001-of-00002.safetensors:  54% 2.72G/4.99G [00:28<00:22, 101MB/s]\u001b[A\n",
            "model-00001-of-00002.safetensors:  55% 2.73G/4.99G [00:28<00:22, 101MB/s]\u001b[A\n",
            "model-00001-of-00002.safetensors:  55% 2.74G/4.99G [00:28<00:22, 101MB/s]\u001b[A\n",
            "model-00001-of-00002.safetensors:  55% 2.75G/4.99G [00:28<00:22, 100MB/s]\u001b[A\n",
            "model-00001-of-00002.safetensors:  55% 2.76G/4.99G [00:28<00:22, 100MB/s]\u001b[A\n",
            "model-00001-of-00002.safetensors:  55% 2.77G/4.99G [00:29<00:48, 45.3MB/s]\u001b[A\n",
            "model-00001-of-00002.safetensors:  56% 2.78G/4.99G [00:29<00:42, 51.5MB/s]\u001b[A\n",
            "model-00001-of-00002.safetensors:  56% 2.80G/4.99G [00:29<00:29, 73.8MB/s]\u001b[A\n",
            "model-00001-of-00002.safetensors:  57% 2.82G/4.99G [00:29<00:23, 92.2MB/s]\u001b[A\n",
            "model-00001-of-00002.safetensors:  57% 2.84G/4.99G [00:29<00:22, 95.1MB/s]\u001b[A\n",
            "model-00001-of-00002.safetensors:  57% 2.86G/4.99G [00:30<00:21, 96.9MB/s]\u001b[A\n",
            "model-00001-of-00002.safetensors:  58% 2.88G/4.99G [00:30<00:21, 98.7MB/s]\u001b[A\n",
            "model-00001-of-00002.safetensors:  58% 2.90G/4.99G [00:30<00:20, 99.5MB/s]\u001b[A\n",
            "model-00001-of-00002.safetensors:  58% 2.92G/4.99G [00:30<00:20, 99.7MB/s]\u001b[A\n",
            "model-00001-of-00002.safetensors:  59% 2.93G/4.99G [00:30<00:20, 99.5MB/s]\u001b[A\n",
            "model-00001-of-00002.safetensors:  59% 2.94G/4.99G [00:30<00:20, 100MB/s] \u001b[A\n",
            "model-00001-of-00002.safetensors:  59% 2.95G/4.99G [00:30<00:20, 100MB/s]\u001b[A\n",
            "model-00001-of-00002.safetensors:  59% 2.96G/4.99G [00:31<00:20, 100MB/s]\u001b[A\n",
            "model-00001-of-00002.safetensors:  59% 2.97G/4.99G [00:31<00:20, 101MB/s]\u001b[A\n",
            "model-00001-of-00002.safetensors:  60% 2.98G/4.99G [00:31<00:19, 101MB/s]\u001b[A\n",
            "model-00001-of-00002.safetensors:  60% 2.99G/4.99G [00:31<00:19, 101MB/s]\u001b[A\n",
            "model-00001-of-00002.safetensors:  60% 3.00G/4.99G [00:31<00:19, 101MB/s]\u001b[A\n",
            "model-00001-of-00002.safetensors:  60% 3.01G/4.99G [00:31<00:19, 101MB/s]\u001b[A\n",
            "model-00001-of-00002.safetensors:  61% 3.02G/4.99G [00:31<00:19, 101MB/s]\u001b[A\n",
            "model-00001-of-00002.safetensors:  61% 3.03G/4.99G [00:31<00:20, 97.6MB/s]\u001b[A\n",
            "model-00001-of-00002.safetensors:  61% 3.04G/4.99G [00:31<00:19, 98.5MB/s]\u001b[A\n",
            "model-00001-of-00002.safetensors:  61% 3.05G/4.99G [00:32<00:19, 99.6MB/s]\u001b[A\n",
            "model-00001-of-00002.safetensors:  61% 3.06G/4.99G [00:32<00:19, 98.8MB/s]\u001b[A\n",
            "model-00001-of-00002.safetensors:  62% 3.07G/4.99G [00:32<00:19, 99.4MB/s]\u001b[A\n",
            "model-00001-of-00002.safetensors:  62% 3.08G/4.99G [00:32<00:18, 100MB/s] \u001b[A\n",
            "model-00001-of-00002.safetensors:  62% 3.09G/4.99G [00:32<00:18, 100MB/s]\u001b[A\n",
            "model-00001-of-00002.safetensors:  62% 3.10G/4.99G [00:32<00:19, 99.0MB/s]\u001b[A\n",
            "model-00001-of-00002.safetensors:  62% 3.11G/4.99G [00:32<00:18, 99.1MB/s]\u001b[A\n",
            "model-00001-of-00002.safetensors:  63% 3.12G/4.99G [00:32<00:18, 99.3MB/s]\u001b[A\n",
            "model-00001-of-00002.safetensors:  63% 3.14G/4.99G [00:32<00:18, 97.9MB/s]\u001b[A\n",
            "model-00001-of-00002.safetensors:  63% 3.15G/4.99G [00:33<00:19, 95.9MB/s]\u001b[A\n",
            "model-00001-of-00002.safetensors:  63% 3.16G/4.99G [00:33<00:18, 97.0MB/s]\u001b[A\n",
            "model-00001-of-00002.safetensors:  63% 3.17G/4.99G [00:33<00:18, 98.7MB/s]\u001b[A\n",
            "model-00001-of-00002.safetensors:  64% 3.18G/4.99G [00:33<00:18, 99.4MB/s]\u001b[A\n",
            "model-00001-of-00002.safetensors:  64% 3.19G/4.99G [00:33<00:17, 100MB/s] \u001b[A\n",
            "model-00001-of-00002.safetensors:  64% 3.20G/4.99G [00:33<00:17, 101MB/s]\u001b[A\n",
            "model-00001-of-00002.safetensors:  64% 3.21G/4.99G [00:33<00:17, 101MB/s]\u001b[A\n",
            "model-00001-of-00002.safetensors:  65% 3.22G/4.99G [00:33<00:17, 101MB/s]\u001b[A\n",
            "model-00001-of-00002.safetensors:  65% 3.23G/4.99G [00:33<00:17, 102MB/s]\u001b[A\n",
            "model-00001-of-00002.safetensors:  65% 3.24G/4.99G [00:33<00:17, 101MB/s]\u001b[A\n",
            "model-00001-of-00002.safetensors:  65% 3.25G/4.99G [00:34<00:17, 102MB/s]\u001b[A\n",
            "model-00001-of-00002.safetensors:  65% 3.26G/4.99G [00:34<00:17, 102MB/s]\u001b[A\n",
            "model-00001-of-00002.safetensors:  66% 3.27G/4.99G [00:34<00:16, 102MB/s]\u001b[A\n",
            "model-00001-of-00002.safetensors:  66% 3.28G/4.99G [00:34<00:16, 101MB/s]\u001b[A\n",
            "model-00001-of-00002.safetensors:  66% 3.29G/4.99G [00:34<00:16, 102MB/s]\u001b[A\n",
            "model-00001-of-00002.safetensors:  66% 3.30G/4.99G [00:34<00:16, 100MB/s]\u001b[A\n",
            "model-00001-of-00002.safetensors:  66% 3.31G/4.99G [00:34<00:16, 101MB/s]\u001b[A\n",
            "model-00001-of-00002.safetensors:  67% 3.32G/4.99G [00:34<00:16, 101MB/s]\u001b[A\n",
            "model-00001-of-00002.safetensors:  67% 3.33G/4.99G [00:34<00:16, 101MB/s]\u001b[A\n",
            "model-00001-of-00002.safetensors:  67% 3.34G/4.99G [00:34<00:16, 101MB/s]\u001b[A\n",
            "model-00001-of-00002.safetensors:  67% 3.36G/4.99G [00:35<00:16, 101MB/s]\u001b[A\n",
            "model-00001-of-00002.safetensors:  67% 3.37G/4.99G [00:35<00:16, 101MB/s]\u001b[A\n",
            "model-00001-of-00002.safetensors:  68% 3.38G/4.99G [00:35<00:15, 101MB/s]\u001b[A\n",
            "model-00001-of-00002.safetensors:  68% 3.39G/4.99G [00:35<00:15, 102MB/s]\u001b[A\n",
            "model-00001-of-00002.safetensors:  68% 3.40G/4.99G [00:35<00:15, 102MB/s]\u001b[A\n",
            "model-00001-of-00002.safetensors:  68% 3.41G/4.99G [00:35<00:15, 100MB/s]\u001b[A\n",
            "model-00001-of-00002.safetensors:  69% 3.42G/4.99G [00:35<00:15, 101MB/s]\u001b[A\n",
            "model-00001-of-00002.safetensors:  69% 3.43G/4.99G [00:35<00:15, 101MB/s]\u001b[A\n",
            "model-00001-of-00002.safetensors:  69% 3.44G/4.99G [00:35<00:15, 100MB/s]\u001b[A\n",
            "model-00001-of-00002.safetensors:  69% 3.45G/4.99G [00:36<00:15, 101MB/s]\u001b[A\n",
            "model-00001-of-00002.safetensors:  69% 3.46G/4.99G [00:36<00:15, 100MB/s]\u001b[A\n",
            "model-00001-of-00002.safetensors:  70% 3.47G/4.99G [00:36<00:15, 99.7MB/s]\u001b[A\n",
            "model-00001-of-00002.safetensors:  70% 3.48G/4.99G [00:36<00:15, 100MB/s] \u001b[A\n",
            "model-00001-of-00002.safetensors:  70% 3.49G/4.99G [00:36<00:15, 99.6MB/s]\u001b[A\n",
            "model-00001-of-00002.safetensors:  70% 3.50G/4.99G [00:36<00:14, 100MB/s] \u001b[A\n",
            "model-00001-of-00002.safetensors:  70% 3.51G/4.99G [00:36<00:14, 99.6MB/s]\u001b[A\n",
            "model-00001-of-00002.safetensors:  71% 3.52G/4.99G [00:36<00:14, 98.8MB/s]\u001b[A\n",
            "model-00001-of-00002.safetensors:  71% 3.53G/4.99G [00:36<00:14, 99.5MB/s]\u001b[A\n",
            "model-00001-of-00002.safetensors:  71% 3.54G/4.99G [00:36<00:14, 98.4MB/s]\u001b[A\n",
            "model-00001-of-00002.safetensors:  71% 3.55G/4.99G [00:37<00:14, 98.4MB/s]\u001b[A\n",
            "model-00001-of-00002.safetensors:  71% 3.57G/4.99G [00:37<00:14, 97.9MB/s]\u001b[A\n",
            "model-00001-of-00002.safetensors:  72% 3.58G/4.99G [00:37<00:14, 97.2MB/s]\u001b[A\n",
            "model-00001-of-00002.safetensors:  72% 3.59G/4.99G [00:37<00:14, 98.2MB/s]\u001b[A\n",
            "model-00001-of-00002.safetensors:  72% 3.60G/4.99G [00:37<00:13, 100MB/s] \u001b[A\n",
            "model-00001-of-00002.safetensors:  72% 3.61G/4.99G [00:37<00:13, 99.9MB/s]\u001b[A\n",
            "model-00001-of-00002.safetensors:  73% 3.62G/4.99G [00:37<00:13, 100MB/s] \u001b[A\n",
            "model-00001-of-00002.safetensors:  73% 3.63G/4.99G [00:37<00:13, 99.5MB/s]\u001b[A\n",
            "model-00001-of-00002.safetensors:  73% 3.64G/4.99G [00:37<00:13, 99.8MB/s]\u001b[A\n",
            "model-00001-of-00002.safetensors:  73% 3.65G/4.99G [00:38<00:13, 100MB/s] \u001b[A\n",
            "model-00001-of-00002.safetensors:  73% 3.66G/4.99G [00:38<00:13, 98.7MB/s]\u001b[A\n",
            "model-00001-of-00002.safetensors:  74% 3.67G/4.99G [00:38<00:14, 94.1MB/s]\u001b[A\n",
            "model-00001-of-00002.safetensors:  74% 3.68G/4.99G [00:38<00:13, 95.6MB/s]\u001b[A\n",
            "model-00001-of-00002.safetensors:  74% 3.69G/4.99G [00:38<00:13, 97.0MB/s]\u001b[A\n",
            "model-00001-of-00002.safetensors:  74% 3.70G/4.99G [00:38<00:13, 97.3MB/s]\u001b[A\n",
            "model-00001-of-00002.safetensors:  74% 3.71G/4.99G [00:38<00:13, 91.5MB/s]\u001b[A\n",
            "model-00001-of-00002.safetensors:  75% 3.72G/4.99G [00:38<00:13, 94.1MB/s]\u001b[A\n",
            "model-00001-of-00002.safetensors:  75% 3.73G/4.99G [00:38<00:13, 95.7MB/s]\u001b[A\n",
            "model-00001-of-00002.safetensors:  75% 3.74G/4.99G [00:39<00:12, 97.3MB/s]\u001b[A\n",
            "model-00001-of-00002.safetensors:  75% 3.75G/4.99G [00:39<00:12, 97.7MB/s]\u001b[A\n",
            "model-00001-of-00002.safetensors:  75% 3.76G/4.99G [00:39<00:12, 98.9MB/s]\u001b[A\n",
            "model-00001-of-00002.safetensors:  76% 3.77G/4.99G [00:39<00:12, 99.7MB/s]\u001b[A\n",
            "model-00001-of-00002.safetensors:  76% 3.79G/4.99G [00:39<00:12, 99.4MB/s]\u001b[A\n",
            "model-00001-of-00002.safetensors:  76% 3.80G/4.99G [00:39<00:11, 100MB/s] \u001b[A\n",
            "model-00001-of-00002.safetensors:  76% 3.81G/4.99G [00:39<00:11, 98.7MB/s]\u001b[A\n",
            "model-00001-of-00002.safetensors:  77% 3.82G/4.99G [00:39<00:11, 98.6MB/s]\u001b[A\n",
            "model-00001-of-00002.safetensors:  77% 3.83G/4.99G [00:39<00:11, 97.5MB/s]\u001b[A\n",
            "model-00001-of-00002.safetensors:  77% 3.84G/4.99G [00:39<00:11, 98.4MB/s]\u001b[A\n",
            "model-00001-of-00002.safetensors:  77% 3.85G/4.99G [00:40<00:11, 99.1MB/s]\u001b[A\n",
            "model-00001-of-00002.safetensors:  77% 3.86G/4.99G [00:40<00:11, 99.8MB/s]\u001b[A\n",
            "model-00001-of-00002.safetensors:  78% 3.87G/4.99G [00:40<00:11, 99.9MB/s]\u001b[A\n",
            "model-00001-of-00002.safetensors:  78% 3.88G/4.99G [00:40<00:11, 99.6MB/s]\u001b[A\n",
            "model-00001-of-00002.safetensors:  78% 3.89G/4.99G [00:40<00:10, 100MB/s] \u001b[A\n",
            "model-00001-of-00002.safetensors:  78% 3.90G/4.99G [00:40<00:10, 100MB/s]\u001b[A\n",
            "model-00001-of-00002.safetensors:  78% 3.91G/4.99G [00:40<00:10, 99.6MB/s]\u001b[A\n",
            "model-00001-of-00002.safetensors:  79% 3.92G/4.99G [00:40<00:10, 99.9MB/s]\u001b[A\n",
            "model-00001-of-00002.safetensors:  79% 3.93G/4.99G [00:40<00:10, 100MB/s] \u001b[A\n",
            "model-00001-of-00002.safetensors:  79% 3.94G/4.99G [00:41<00:10, 101MB/s]\u001b[A\n",
            "model-00001-of-00002.safetensors:  79% 3.95G/4.99G [00:41<00:10, 101MB/s]\u001b[A\n",
            "model-00001-of-00002.safetensors:  79% 3.96G/4.99G [00:41<00:16, 61.9MB/s]\u001b[A\n",
            "model-00001-of-00002.safetensors:  80% 3.98G/4.99G [00:41<00:11, 89.4MB/s]\u001b[A\n",
            "model-00001-of-00002.safetensors:  80% 4.01G/4.99G [00:41<00:09, 99.3MB/s]\u001b[A\n",
            "model-00001-of-00002.safetensors:  81% 4.03G/4.99G [00:41<00:09, 99.6MB/s]\u001b[A\n",
            "model-00001-of-00002.safetensors:  81% 4.05G/4.99G [00:42<00:09, 101MB/s] \u001b[A\n",
            "model-00001-of-00002.safetensors:  82% 4.07G/4.99G [00:42<00:09, 101MB/s]\u001b[A\n",
            "model-00001-of-00002.safetensors:  82% 4.09G/4.99G [00:42<00:08, 101MB/s]\u001b[A\n",
            "model-00001-of-00002.safetensors:  82% 4.10G/4.99G [00:42<00:08, 102MB/s]\u001b[A\n",
            "model-00001-of-00002.safetensors:  82% 4.11G/4.99G [00:42<00:08, 101MB/s]\u001b[A\n",
            "model-00001-of-00002.safetensors:  83% 4.12G/4.99G [00:42<00:08, 101MB/s]\u001b[A\n",
            "model-00001-of-00002.safetensors:  83% 4.13G/4.99G [00:42<00:08, 101MB/s]\u001b[A\n",
            "model-00001-of-00002.safetensors:  83% 4.14G/4.99G [00:43<00:08, 102MB/s]\u001b[A\n",
            "model-00001-of-00002.safetensors:  83% 4.15G/4.99G [00:43<00:08, 101MB/s]\u001b[A\n",
            "model-00001-of-00002.safetensors:  83% 4.16G/4.99G [00:43<00:08, 101MB/s]\u001b[A\n",
            "model-00001-of-00002.safetensors:  84% 4.17G/4.99G [00:43<00:08, 99.6MB/s]\u001b[A\n",
            "model-00001-of-00002.safetensors:  84% 4.18G/4.99G [00:43<00:08, 98.9MB/s]\u001b[A\n",
            "model-00001-of-00002.safetensors:  84% 4.19G/4.99G [00:43<00:07, 100MB/s] \u001b[A\n",
            "model-00001-of-00002.safetensors:  84% 4.20G/4.99G [00:43<00:07, 100MB/s]\u001b[A\n",
            "model-00001-of-00002.safetensors:  85% 4.22G/4.99G [00:43<00:07, 98.7MB/s]\u001b[A\n",
            "model-00001-of-00002.safetensors:  85% 4.24G/4.99G [00:44<00:07, 101MB/s] \u001b[A\n",
            "model-00001-of-00002.safetensors:  85% 4.26G/4.99G [00:44<00:07, 102MB/s]\u001b[A\n",
            "model-00001-of-00002.safetensors:  86% 4.27G/4.99G [00:44<00:07, 102MB/s]\u001b[A\n",
            "model-00001-of-00002.safetensors:  86% 4.28G/4.99G [00:44<00:06, 102MB/s]\u001b[A\n",
            "model-00001-of-00002.safetensors:  86% 4.29G/4.99G [00:44<00:06, 101MB/s]\u001b[A\n",
            "model-00001-of-00002.safetensors:  86% 4.30G/4.99G [00:44<00:06, 101MB/s]\u001b[A\n",
            "model-00001-of-00002.safetensors:  86% 4.31G/4.99G [00:44<00:06, 102MB/s]\u001b[A\n",
            "model-00001-of-00002.safetensors:  87% 4.32G/4.99G [00:44<00:06, 101MB/s]\u001b[A\n",
            "model-00001-of-00002.safetensors:  87% 4.33G/4.99G [00:44<00:06, 101MB/s]\u001b[A\n",
            "model-00001-of-00002.safetensors:  87% 4.34G/4.99G [00:45<00:06, 99.8MB/s]\u001b[A\n",
            "model-00001-of-00002.safetensors:  87% 4.35G/4.99G [00:45<00:06, 100MB/s] \u001b[A\n",
            "model-00001-of-00002.safetensors:  87% 4.36G/4.99G [00:45<00:06, 98.5MB/s]\u001b[A\n",
            "model-00001-of-00002.safetensors:  88% 4.37G/4.99G [00:45<00:06, 98.7MB/s]\u001b[A\n",
            "model-00001-of-00002.safetensors:  88% 4.38G/4.99G [00:45<00:06, 99.4MB/s]\u001b[A\n",
            "model-00001-of-00002.safetensors:  88% 4.39G/4.99G [00:45<00:06, 99.0MB/s]\u001b[A\n",
            "model-00001-of-00002.safetensors:  88% 4.40G/4.99G [00:45<00:05, 99.4MB/s]\u001b[A\n",
            "model-00001-of-00002.safetensors:  89% 4.41G/4.99G [00:45<00:05, 101MB/s] \u001b[A\n",
            "model-00001-of-00002.safetensors:  89% 4.42G/4.99G [00:45<00:05, 99.7MB/s]\u001b[A\n",
            "model-00001-of-00002.safetensors:  89% 4.44G/4.99G [00:45<00:05, 99.5MB/s]\u001b[A\n",
            "model-00001-of-00002.safetensors:  89% 4.45G/4.99G [00:46<00:05, 100MB/s] \u001b[A\n",
            "model-00001-of-00002.safetensors:  89% 4.46G/4.99G [00:46<00:05, 99.7MB/s]\u001b[A\n",
            "model-00001-of-00002.safetensors:  90% 4.47G/4.99G [00:46<00:05, 100MB/s] \u001b[A\n",
            "model-00001-of-00002.safetensors:  90% 4.48G/4.99G [00:46<00:05, 100MB/s]\u001b[A\n",
            "model-00001-of-00002.safetensors:  90% 4.49G/4.99G [00:46<00:05, 99.1MB/s]\u001b[A\n",
            "model-00001-of-00002.safetensors:  90% 4.50G/4.99G [00:46<00:04, 98.8MB/s]\u001b[A\n",
            "model-00001-of-00002.safetensors:  90% 4.51G/4.99G [00:46<00:04, 100MB/s] \u001b[A\n",
            "model-00001-of-00002.safetensors:  91% 4.52G/4.99G [00:46<00:04, 100MB/s]\u001b[A\n",
            "model-00001-of-00002.safetensors:  91% 4.53G/4.99G [00:46<00:04, 99.7MB/s]\u001b[A\n",
            "model-00001-of-00002.safetensors:  91% 4.54G/4.99G [00:47<00:04, 101MB/s] \u001b[A\n",
            "model-00001-of-00002.safetensors:  91% 4.55G/4.99G [00:47<00:04, 101MB/s]\u001b[A\n",
            "model-00001-of-00002.safetensors:  91% 4.56G/4.99G [00:47<00:04, 98.8MB/s]\u001b[A\n",
            "model-00001-of-00002.safetensors:  92% 4.57G/4.99G [00:47<00:04, 99.7MB/s]\u001b[A\n",
            "model-00001-of-00002.safetensors:  92% 4.58G/4.99G [00:47<00:04, 100MB/s] \u001b[A\n",
            "model-00001-of-00002.safetensors:  92% 4.59G/4.99G [00:47<00:03, 99.1MB/s]\u001b[A\n",
            "model-00001-of-00002.safetensors:  92% 4.60G/4.99G [00:47<00:03, 99.1MB/s]\u001b[A\n",
            "model-00001-of-00002.safetensors:  92% 4.61G/4.99G [00:47<00:03, 100MB/s] \u001b[A\n",
            "model-00001-of-00002.safetensors:  93% 4.62G/4.99G [00:47<00:03, 100MB/s]\u001b[A\n",
            "model-00001-of-00002.safetensors:  93% 4.63G/4.99G [00:47<00:03, 101MB/s]\u001b[A\n",
            "model-00001-of-00002.safetensors:  93% 4.65G/4.99G [00:48<00:03, 101MB/s]\u001b[A\n",
            "model-00001-of-00002.safetensors:  93% 4.66G/4.99G [00:48<00:03, 101MB/s]\u001b[A\n",
            "model-00001-of-00002.safetensors:  94% 4.67G/4.99G [00:48<00:03, 101MB/s]\u001b[A\n",
            "model-00001-of-00002.safetensors:  94% 4.68G/4.99G [00:48<00:03, 102MB/s]\u001b[A\n",
            "model-00001-of-00002.safetensors:  94% 4.69G/4.99G [00:48<00:02, 102MB/s]\u001b[A\n",
            "model-00001-of-00002.safetensors:  94% 4.70G/4.99G [00:48<00:02, 102MB/s]\u001b[A\n",
            "model-00001-of-00002.safetensors:  94% 4.71G/4.99G [00:48<00:02, 102MB/s]\u001b[A\n",
            "model-00001-of-00002.safetensors:  95% 4.72G/4.99G [00:50<00:15, 17.1MB/s]\u001b[A\n",
            "model-00001-of-00002.safetensors:  95% 4.73G/4.99G [00:51<00:15, 17.1MB/s]\u001b[A\n",
            "model-00001-of-00002.safetensors:  95% 4.75G/4.99G [00:51<00:08, 28.6MB/s]\u001b[A\n",
            "model-00001-of-00002.safetensors:  96% 4.77G/4.99G [00:51<00:05, 42.1MB/s]\u001b[A\n",
            "model-00001-of-00002.safetensors:  96% 4.78G/4.99G [00:51<00:04, 48.4MB/s]\u001b[A\n",
            "model-00001-of-00002.safetensors:  96% 4.79G/4.99G [00:51<00:03, 55.5MB/s]\u001b[A\n",
            "model-00001-of-00002.safetensors:  96% 4.80G/4.99G [00:51<00:02, 63.0MB/s]\u001b[A\n",
            "model-00001-of-00002.safetensors:  96% 4.81G/4.99G [00:51<00:02, 70.2MB/s]\u001b[A\n",
            "model-00001-of-00002.safetensors:  97% 4.82G/4.99G [00:51<00:02, 76.9MB/s]\u001b[A\n",
            "model-00001-of-00002.safetensors:  97% 4.83G/4.99G [00:52<00:01, 82.8MB/s]\u001b[A\n",
            "model-00001-of-00002.safetensors:  97% 4.84G/4.99G [00:52<00:01, 87.7MB/s]\u001b[A\n",
            "model-00001-of-00002.safetensors:  97% 4.85G/4.99G [00:52<00:01, 91.2MB/s]\u001b[A\n",
            "model-00001-of-00002.safetensors:  98% 4.87G/4.99G [00:52<00:01, 94.7MB/s]\u001b[A\n",
            "model-00001-of-00002.safetensors:  98% 4.88G/4.99G [00:52<00:01, 96.8MB/s]\u001b[A\n",
            "model-00001-of-00002.safetensors:  98% 4.89G/4.99G [00:52<00:01, 98.9MB/s]\u001b[A\n",
            "model-00001-of-00002.safetensors:  98% 4.90G/4.99G [00:52<00:00, 99.4MB/s]\u001b[A\n",
            "model-00001-of-00002.safetensors:  98% 4.91G/4.99G [00:52<00:00, 99.1MB/s]\u001b[A\n",
            "model-00001-of-00002.safetensors:  99% 4.92G/4.99G [00:52<00:00, 98.8MB/s]\u001b[A\n",
            "model-00001-of-00002.safetensors:  99% 4.93G/4.99G [00:52<00:00, 100MB/s] \u001b[A\n",
            "model-00001-of-00002.safetensors:  99% 4.94G/4.99G [00:53<00:00, 101MB/s]\u001b[A\n",
            "model-00001-of-00002.safetensors:  99% 4.95G/4.99G [00:53<00:00, 101MB/s]\u001b[A\n",
            "model-00001-of-00002.safetensors:  99% 4.96G/4.99G [00:53<00:00, 101MB/s]\u001b[A\n",
            "model-00001-of-00002.safetensors: 100% 4.97G/4.99G [00:53<00:00, 102MB/s]\u001b[A\n",
            "model-00001-of-00002.safetensors: 100% 4.99G/4.99G [00:53<00:00, 93.1MB/s]\n",
            "Fetching 2 files: 100% 2/2 [00:53<00:00, 26.86s/it]\n",
            "Loading checkpoint shards: 100% 2/2 [00:00<00:00, 11.11it/s]\n",
            "generation_config.json: 100% 168/168 [00:00<00:00, 1.34MB/s]\n",
            "tokenizer_config.json: 100% 46.9k/46.9k [00:00<00:00, 15.8MB/s]\n",
            "tokenizer.model: 100% 4.24M/4.24M [00:00<00:00, 42.3MB/s]\n",
            "tokenizer.json: 100% 17.5M/17.5M [00:00<00:00, 223MB/s]\n",
            "special_tokens_map.json: 100% 555/555 [00:00<00:00, 5.57MB/s]\n",
            "Device set to use cuda\n",
            "2025-04-26 12:11:13.272 Examining the path of torch.classes raised:\n",
            "Traceback (most recent call last):\n",
            "  File \"/usr/local/lib/python3.11/dist-packages/streamlit/web/bootstrap.py\", line 347, in run\n",
            "    if asyncio.get_running_loop().is_running():\n",
            "       ^^^^^^^^^^^^^^^^^^^^^^^^^^\n",
            "RuntimeError: no running event loop\n",
            "\n",
            "During handling of the above exception, another exception occurred:\n",
            "\n",
            "Traceback (most recent call last):\n",
            "  File \"/usr/local/lib/python3.11/dist-packages/streamlit/watcher/local_sources_watcher.py\", line 217, in get_module_paths\n",
            "    potential_paths = extract_paths(module)\n",
            "                      ^^^^^^^^^^^^^^^^^^^^^\n",
            "  File \"/usr/local/lib/python3.11/dist-packages/streamlit/watcher/local_sources_watcher.py\", line 210, in <lambda>\n",
            "    lambda m: list(m.__path__._path),\n",
            "                   ^^^^^^^^^^^^^^^^\n",
            "  File \"/usr/local/lib/python3.11/dist-packages/torch/_classes.py\", line 13, in __getattr__\n",
            "    proxy = torch._C._get_custom_class_python_wrapper(self.name, attr)\n",
            "            ^^^^^^^^^^^^^^^^^^^^^^^^^^^^^^^^^^^^^^^^^^^^^^^^^^^^^^^^^^\n",
            "RuntimeError: Tried to instantiate class '__path__._path', but it does not exist! Ensure that it is registered via torch::class_\n",
            "NLTK Punkt data checked/downloaded.\n",
            "Database 'chat_feedback.db' initialized successfully.\n",
            "NLTK Punkt data checked/downloaded.\n",
            "Database 'chat_feedback.db' initialized successfully.\n",
            "Generated response in 4.90s\n",
            "NLTK Punkt data checked/downloaded.\n",
            "Database 'chat_feedback.db' initialized successfully.\n",
            "NLTK Punkt data checked/downloaded.\n",
            "Database 'chat_feedback.db' initialized successfully.\n",
            "NLTK Punkt data checked/downloaded.\n",
            "Database 'chat_feedback.db' initialized successfully.\n",
            "2025-04-26 12:16:01.956 Examining the path of torch.classes raised:\n",
            "Traceback (most recent call last):\n",
            "  File \"/usr/local/lib/python3.11/dist-packages/streamlit/web/bootstrap.py\", line 347, in run\n",
            "    if asyncio.get_running_loop().is_running():\n",
            "       ^^^^^^^^^^^^^^^^^^^^^^^^^^\n",
            "RuntimeError: no running event loop\n",
            "\n",
            "During handling of the above exception, another exception occurred:\n",
            "\n",
            "Traceback (most recent call last):\n",
            "  File \"/usr/local/lib/python3.11/dist-packages/streamlit/watcher/local_sources_watcher.py\", line 217, in get_module_paths\n",
            "    potential_paths = extract_paths(module)\n",
            "                      ^^^^^^^^^^^^^^^^^^^^^\n",
            "  File \"/usr/local/lib/python3.11/dist-packages/streamlit/watcher/local_sources_watcher.py\", line 210, in <lambda>\n",
            "    lambda m: list(m.__path__._path),\n",
            "                   ^^^^^^^^^^^^^^^^\n",
            "  File \"/usr/local/lib/python3.11/dist-packages/torch/_classes.py\", line 13, in __getattr__\n",
            "    proxy = torch._C._get_custom_class_python_wrapper(self.name, attr)\n",
            "            ^^^^^^^^^^^^^^^^^^^^^^^^^^^^^^^^^^^^^^^^^^^^^^^^^^^^^^^^^^\n",
            "RuntimeError: Tried to instantiate class '__path__._path', but it does not exist! Ensure that it is registered via torch::class_\n",
            "NLTK Punkt data checked/downloaded.\n",
            "Database 'chat_feedback.db' initialized successfully.\n",
            "NLTK Punkt data checked/downloaded.\n",
            "Database 'chat_feedback.db' initialized successfully.\n",
            "NLTK Punkt data checked/downloaded.\n",
            "Database 'chat_feedback.db' initialized successfully.\n",
            "NLTK Punkt data checked/downloaded.\n",
            "Database 'chat_feedback.db' initialized successfully.\n",
            "Generated response in 3.55s\n",
            "NLTK Punkt data checked/downloaded.\n",
            "Database 'chat_feedback.db' initialized successfully.\n",
            "\u001b[34m  Stopping...\u001b[0m\n",
            "\u001b[34m  Stopping...\u001b[0m\n",
            "Exception ignored in: <module 'threading' from '/usr/lib/python3.11/threading.py'>\n",
            "Traceback (most recent call last):\n",
            "  File \"/usr/lib/python3.11/threading.py\", line 1560, in _shutdown\n",
            "    atexit_call()\n",
            "  File \"/usr/lib/python3.11/concurrent/futures/thread.py\", line 31, in _python_exit\n",
            "    t.join()\n",
            "  File \"/usr/lib/python3.11/threading.py\", line 1119, in join\n",
            "    self._wait_for_tstate_lock()\n",
            "  File \"/usr/lib/python3.11/threading.py\", line 1139, in _wait_for_tstate_lock\n",
            "    if lock.acquire(block, timeout):\n",
            "       ^^^^^^^^^^^^^^^^^^^^^^^^^^^^\n",
            "  File \"/usr/local/lib/python3.11/dist-packages/streamlit/web/bootstrap.py\", line 44, in signal_handler\n",
            "    server.stop()\n",
            "  File \"/usr/local/lib/python3.11/dist-packages/streamlit/web/server/server.py\", line 470, in stop\n",
            "    self._runtime.stop()\n",
            "  File \"/usr/local/lib/python3.11/dist-packages/streamlit/runtime/runtime.py\", line 337, in stop\n",
            "    async_objs.eventloop.call_soon_threadsafe(stop_on_eventloop)\n",
            "  File \"/usr/lib/python3.11/asyncio/base_events.py\", line 807, in call_soon_threadsafe\n",
            "    self._check_closed()\n",
            "  File \"/usr/lib/python3.11/asyncio/base_events.py\", line 520, in _check_closed\n",
            "    raise RuntimeError('Event loop is closed')\n",
            "RuntimeError: Event loop is closed\n"
          ]
        }
      ],
      "source": [
        "from pyngrok import ngrok\n",
        "\n",
        "public_url = ngrok.connect(8501).public_url\n",
        "print(f\"公開URL: {public_url}\")\n",
        "!streamlit run app.py"
      ]
    },
    {
      "cell_type": "markdown",
      "metadata": {
        "id": "mRNwat-awL2K"
      },
      "source": [
        "アプリケーションの機能としては、チャット機能や履歴閲覧があります。\n",
        "\n",
        "これらの機能を実現するためには、StreamlitによるUI部分だけではなく、SQLiteを使用したチャット履歴の保存やLLMのモデルを呼び出した推論などの処理を組み合わせることで実現しています。\n",
        "\n",
        "- **`app.py`**: アプリケーションのエントリーポイント。チャット機能、履歴閲覧、サンプルデータ管理のUIを提供します。\n",
        "- **`ui.py`**: チャットページや履歴閲覧ページなど、アプリケーションのUIロジックを管理します。\n",
        "- **`llm.py`**: LLMモデルのロードとテキスト生成を行うモジュール。\n",
        "- **`database.py`**: SQLiteデータベースを使用してチャット履歴やフィードバックを保存・管理します。\n",
        "- **`metrics.py`**: BLEUスコアやコサイン類似度など、回答の評価指標を計算するモジュール。\n",
        "- **`data.py`**: サンプルデータの作成やデータベースの初期化を行うモジュール。\n",
        "- **`config.py`**: アプリケーションの設定（モデル名やデータベースファイル名）を管理します。\n",
        "- **`requirements.txt`**: このアプリケーションを実行するために必要なPythonパッケージ。"
      ]
    },
    {
      "cell_type": "markdown",
      "metadata": {
        "id": "Xvm8sWFPELSP"
      },
      "source": [
        "後片付けとして、使う必要のないngrokのトンネルを削除します。"
      ]
    },
    {
      "cell_type": "code",
      "execution_count": 25,
      "metadata": {
        "id": "WFJC2TmZELSP"
      },
      "outputs": [],
      "source": [
        "from pyngrok import ngrok\n",
        "ngrok.kill()"
      ]
    },
    {
      "cell_type": "markdown",
      "metadata": {
        "id": "rUXhIzV7ELSP"
      },
      "source": [
        "# 03_FastAPI\n",
        "\n",
        "ディレクトリ「03_FastAPI」に移動します。"
      ]
    },
    {
      "cell_type": "code",
      "execution_count": 26,
      "metadata": {
        "id": "4ejjDLxr3kfC",
        "colab": {
          "base_uri": "https://localhost:8080/"
        },
        "outputId": "bbeefb1d-06d9-42b2-f0fe-1b29a7a40169"
      },
      "outputs": [
        {
          "output_type": "stream",
          "name": "stdout",
          "text": [
            "/content/lecture-ai-engineering/day1/03_FastAPI\n"
          ]
        }
      ],
      "source": [
        "%cd /content/lecture-ai-engineering/day1/03_FastAPI"
      ]
    },
    {
      "cell_type": "markdown",
      "metadata": {
        "id": "f45TDsNzELSQ"
      },
      "source": [
        "必要なライブラリをインストールします。"
      ]
    },
    {
      "cell_type": "code",
      "execution_count": 27,
      "metadata": {
        "id": "9uv6glCz5a7Z"
      },
      "outputs": [],
      "source": [
        "%%capture\n",
        "!pip install -r requirements.txt"
      ]
    },
    {
      "cell_type": "markdown",
      "metadata": {
        "id": "JfrmE2VmELSQ"
      },
      "source": [
        "ngrokとhuggigfaceのトークンを使用して、認証を行います。"
      ]
    },
    {
      "cell_type": "code",
      "execution_count": 28,
      "metadata": {
        "id": "ELzWhMFORRIO",
        "colab": {
          "base_uri": "https://localhost:8080/"
        },
        "outputId": "124bdbf5-140b-4fda-c4b1-256264fec339"
      },
      "outputs": [
        {
          "output_type": "stream",
          "name": "stdout",
          "text": [
            "Authtoken saved to configuration file: /root/.config/ngrok/ngrok.yml\n",
            "The token has not been saved to the git credentials helper. Pass `add_to_git_credential=True` in this function directly or `--add-to-git-credential` if using via `huggingface-cli` if you want to set the git credential as well.\n",
            "Token is valid (permission: read).\n",
            "The token `AI_engineering` has been saved to /root/.cache/huggingface/stored_tokens\n",
            "Your token has been saved to /root/.cache/huggingface/token\n",
            "Login successful.\n",
            "The current active token is: `AI_engineering`\n"
          ]
        }
      ],
      "source": [
        "!ngrok authtoken $$NGROK_TOKEN\n",
        "!huggingface-cli login --token $$HUGGINGFACE_TOKEN"
      ]
    },
    {
      "cell_type": "markdown",
      "metadata": {
        "id": "t-wztc2CELSQ"
      },
      "source": [
        "アプリを起動します。\n",
        "\n",
        "「02_streamlit_app」から続けて「03_FastAPI」を実行している場合は、モデルのダウンロードが済んでいるため、すぐにサービスが立ち上がります。\n",
        "\n",
        "「03_FastAPI」のみを実行している場合は、初回の起動時にモデルのダウンロードが始まるので、モデルのダウンロードが終わるまで数分間待ちましょう。"
      ]
    },
    {
      "cell_type": "code",
      "execution_count": 29,
      "metadata": {
        "id": "meQ4SwISn3IQ",
        "colab": {
          "base_uri": "https://localhost:8080/"
        },
        "outputId": "842e5ffb-3c24-4c0c-ee4c-515ac33633c9"
      },
      "outputs": [
        {
          "output_type": "stream",
          "name": "stdout",
          "text": [
            "2025-04-26 12:20:15.066429: E external/local_xla/xla/stream_executor/cuda/cuda_fft.cc:477] Unable to register cuFFT factory: Attempting to register factory for plugin cuFFT when one has already been registered\n",
            "WARNING: All log messages before absl::InitializeLog() is called are written to STDERR\n",
            "E0000 00:00:1745670015.093090    9119 cuda_dnn.cc:8310] Unable to register cuDNN factory: Attempting to register factory for plugin cuDNN when one has already been registered\n",
            "E0000 00:00:1745670015.102507    9119 cuda_blas.cc:1418] Unable to register cuBLAS factory: Attempting to register factory for plugin cuBLAS when one has already been registered\n",
            "2025-04-26 12:20:15.154481: I tensorflow/core/platform/cpu_feature_guard.cc:210] This TensorFlow binary is optimized to use available CPU instructions in performance-critical operations.\n",
            "To enable the following instructions: AVX2 FMA, in other operations, rebuild TensorFlow with the appropriate compiler flags.\n",
            "モデル名を設定: google/gemma-2-2b-jpn-it\n",
            "/content/lecture-ai-engineering/day1/03_FastAPI/app.py:134: DeprecationWarning: \n",
            "        on_event is deprecated, use lifespan event handlers instead.\n",
            "\n",
            "        Read more about it in the\n",
            "        [FastAPI docs for Lifespan Events](https://fastapi.tiangolo.com/advanced/events/).\n",
            "        \n",
            "  @app.on_event(\"startup\")\n",
            "FastAPIエンドポイントを定義しました。\n",
            "アクティブなngrokトンネルはありません。\n",
            "ポート8501に新しいngrokトンネルを開いています...\n",
            "---------------------------------------------------------------------\n",
            "✅ 公開URL:   https://74ea-35-190-142-118.ngrok-free.app\n",
            "📖 APIドキュメント (Swagger UI): https://74ea-35-190-142-118.ngrok-free.app/docs\n",
            "---------------------------------------------------------------------\n",
            "(APIクライアントやブラウザからアクセスするためにこのURLをコピーしてください)\n",
            "\u001b[32mINFO\u001b[0m:     Started server process [\u001b[36m9119\u001b[0m]\n",
            "\u001b[32mINFO\u001b[0m:     Waiting for application startup.\n",
            "load_model_task: モデルの読み込みを開始...\n",
            "使用デバイス: cuda\n",
            "Loading checkpoint shards: 100% 2/2 [00:00<00:00, 14.35it/s]\n",
            "Device set to use cuda\n",
            "モデル 'google/gemma-2-2b-jpn-it' の読み込みに成功しました\n",
            "load_model_task: モデルの読み込みが完了しました。\n",
            "起動時にモデルの初期化が完了しました。\n",
            "\u001b[32mINFO\u001b[0m:     Application startup complete.\n",
            "\u001b[32mINFO\u001b[0m:     Uvicorn running on \u001b[1mhttp://0.0.0.0:8501\u001b[0m (Press CTRL+C to quit)\n",
            "\u001b[32mINFO\u001b[0m:     2400:4153:d443:6100:9d01:6876:3c7:b660:0 - \"\u001b[1mGET / HTTP/1.1\u001b[0m\" \u001b[32m200 OK\u001b[0m\n",
            "\u001b[32mINFO\u001b[0m:     2400:4153:d443:6100:9d01:6876:3c7:b660:0 - \"\u001b[1mGET /favicon.ico HTTP/1.1\u001b[0m\" \u001b[31m404 Not Found\u001b[0m\n",
            "\u001b[32mINFO\u001b[0m:     2400:4153:d443:6100:9d01:6876:3c7:b660:0 - \"\u001b[1mGET /docs HTTP/1.1\u001b[0m\" \u001b[32m200 OK\u001b[0m\n",
            "\u001b[32mINFO\u001b[0m:     2400:4153:d443:6100:9d01:6876:3c7:b660:0 - \"\u001b[1mGET /openapi.json HTTP/1.1\u001b[0m\" \u001b[32m200 OK\u001b[0m\n",
            "\u001b[32mINFO\u001b[0m:     2400:4153:d443:6100:9d01:6876:3c7:b660:0 - \"\u001b[1mGET /openapi.json HTTP/1.1\u001b[0m\" \u001b[32m200 OK\u001b[0m\n",
            "\u001b[32mINFO\u001b[0m:     2400:4153:d443:6100:9d01:6876:3c7:b660:0 - \"\u001b[1mGET / HTTP/1.1\u001b[0m\" \u001b[32m200 OK\u001b[0m\n",
            "\u001b[32mINFO\u001b[0m:     2400:4153:d443:6100:9d01:6876:3c7:b660:0 - \"\u001b[1mGET /docs HTTP/1.1\u001b[0m\" \u001b[32m200 OK\u001b[0m\n",
            "\u001b[32mINFO\u001b[0m:     2400:4153:d443:6100:9d01:6876:3c7:b660:0 - \"\u001b[1mGET /openapi.json HTTP/1.1\u001b[0m\" \u001b[32m200 OK\u001b[0m\n",
            "シンプルなリクエストを受信: prompt=who are you..., max_new_tokens=512\n",
            "モデル推論を開始...\n",
            "モデル推論が完了しました。\n",
            "抽出されたアシスタント応答: ?\n",
            "\n",
            "I am Gemma, an open-source AI assistant. \n",
            "\n",
            "Here's a little bit about me:\n",
            "\n",
            "* **Open Weights:** My ...\n",
            "応答生成時間: 10.80秒\n",
            "\u001b[32mINFO\u001b[0m:     2400:4153:d443:6100:9d01:6876:3c7:b660:0 - \"\u001b[1mPOST /generate HTTP/1.1\u001b[0m\" \u001b[32m200 OK\u001b[0m\n",
            "\u001b[32mINFO\u001b[0m:     Shutting down\n",
            "\u001b[32mINFO\u001b[0m:     Waiting for application shutdown.\n",
            "\u001b[32mINFO\u001b[0m:     Application shutdown complete.\n",
            "\u001b[32mINFO\u001b[0m:     Finished server process [\u001b[36m9119\u001b[0m]\n",
            "\n",
            "サーバープロセスが終了しました。\n",
            "Task exception was never retrieved\n",
            "future: <Task finished name='Task-1' coro=<Server.serve() done, defined at /usr/local/lib/python3.11/dist-packages/uvicorn/server.py:68> exception=KeyboardInterrupt()>\n",
            "Traceback (most recent call last):\n",
            "  File \"/usr/local/lib/python3.11/dist-packages/uvicorn/main.py\", line 580, in run\n",
            "    server.run()\n",
            "  File \"/usr/local/lib/python3.11/dist-packages/uvicorn/server.py\", line 66, in run\n",
            "    return asyncio.run(self.serve(sockets=sockets))\n",
            "           ^^^^^^^^^^^^^^^^^^^^^^^^^^^^^^^^^^^^^^^^\n",
            "  File \"/usr/local/lib/python3.11/dist-packages/nest_asyncio.py\", line 30, in run\n",
            "    return loop.run_until_complete(task)\n",
            "           ^^^^^^^^^^^^^^^^^^^^^^^^^^^^^\n",
            "  File \"/usr/local/lib/python3.11/dist-packages/nest_asyncio.py\", line 92, in run_until_complete\n",
            "    self._run_once()\n",
            "  File \"/usr/local/lib/python3.11/dist-packages/nest_asyncio.py\", line 133, in _run_once\n",
            "    handle._run()\n",
            "  File \"/usr/lib/python3.11/asyncio/events.py\", line 84, in _run\n",
            "    self._context.run(self._callback, *self._args)\n",
            "  File \"/usr/lib/python3.11/asyncio/tasks.py\", line 360, in __wakeup\n",
            "    self.__step()\n",
            "  File \"/usr/lib/python3.11/asyncio/tasks.py\", line 277, in __step\n",
            "    result = coro.send(None)\n",
            "             ^^^^^^^^^^^^^^^\n",
            "  File \"/usr/local/lib/python3.11/dist-packages/uvicorn/server.py\", line 69, in serve\n",
            "    with self.capture_signals():\n",
            "  File \"/usr/lib/python3.11/contextlib.py\", line 144, in __exit__\n",
            "    next(self.gen)\n",
            "  File \"/usr/local/lib/python3.11/dist-packages/uvicorn/server.py\", line 330, in capture_signals\n",
            "    signal.raise_signal(captured_signal)\n",
            "KeyboardInterrupt\n"
          ]
        }
      ],
      "source": [
        "!python app.py"
      ]
    },
    {
      "cell_type": "markdown",
      "metadata": {
        "id": "RLubjIhbELSR"
      },
      "source": [
        "FastAPIが起動すると、APIとクライアントが通信するためのURL（エンドポイント）が作られます。\n",
        "\n",
        "URLが作られるのと合わせて、Swagger UIというWebインターフェースが作られます。\n",
        "\n",
        "Swagger UIにアクセスすることで、APIの仕様を確認できたり、APIをテストすることができます。\n",
        "\n",
        "Swagger UIを利用することで、APIを通してLLMを動かしてみましょう。"
      ]
    },
    {
      "cell_type": "markdown",
      "metadata": {
        "id": "XgumW3mGELSR"
      },
      "source": [
        "後片付けとして、使う必要のないngrokのトンネルを削除します。"
      ]
    },
    {
      "cell_type": "code",
      "execution_count": 30,
      "metadata": {
        "id": "RJymTZio-WPJ"
      },
      "outputs": [],
      "source": [
        "from pyngrok import ngrok\n",
        "ngrok.kill()"
      ]
    }
  ],
  "metadata": {
    "colab": {
      "provenance": [],
      "gpuType": "T4"
    },
    "kernelspec": {
      "display_name": "Python 3",
      "name": "python3"
    },
    "language_info": {
      "name": "python"
    },
    "accelerator": "GPU"
  },
  "nbformat": 4,
  "nbformat_minor": 0
}